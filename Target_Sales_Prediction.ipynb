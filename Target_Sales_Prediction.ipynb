{
 "cells": [
  {
   "cell_type": "code",
   "execution_count": 2,
   "id": "a94d23e5",
   "metadata": {},
   "outputs": [],
   "source": [
    "# Importing necessary libraires\n",
    "import pandas as pd\n",
    "import numpy as np\n",
    "import seaborn as sns\n",
    "import matplotlib.pyplot as plt\n",
    "%matplotlib inline"
   ]
  },
  {
   "cell_type": "code",
   "execution_count": 3,
   "id": "cc56db0b",
   "metadata": {},
   "outputs": [],
   "source": [
    "# Importing Data set\n",
    "df1= pd.read_csv(r'C:\\Users\\Hp\\Desktop\\need\\python\\Target Sales\\Business_Data.csv') \n",
    "df2= pd.read_csv(r'C:\\Users\\Hp\\Desktop\\need\\python\\Target Sales\\Sales_History.csv') \n",
    "df3= pd.read_csv(r'C:\\Users\\Hp\\Desktop\\need\\python\\Target Sales\\Store_Details.csv', encoding='windows-1252') "
   ]
  },
  {
   "cell_type": "code",
   "execution_count": 4,
   "id": "a35ba6c6",
   "metadata": {},
   "outputs": [
    {
     "name": "stdout",
     "output_type": "stream",
     "text": [
      "(8190, 12)\n",
      "(421570, 5)\n",
      "(45, 6)\n"
     ]
    }
   ],
   "source": [
    "# The shape of all three dataset\n",
    "print(df1.shape) #business data\n",
    "print(df2.shape) #sales history\n",
    "print(df3.shape) #Store details\n",
    "\n",
    "#Sales history - Historical sales data of each store having 421570 data points and 5 columns.\n",
    "#Store details - Contains Information about 45 stores.\n",
    "#Business data - Contains additional data has 8190 data points and 12 columns"
   ]
  },
  {
   "cell_type": "code",
   "execution_count": 5,
   "id": "7d76deff",
   "metadata": {},
   "outputs": [
    {
     "data": {
      "text/html": [
       "<div>\n",
       "<style scoped>\n",
       "    .dataframe tbody tr th:only-of-type {\n",
       "        vertical-align: middle;\n",
       "    }\n",
       "\n",
       "    .dataframe tbody tr th {\n",
       "        vertical-align: top;\n",
       "    }\n",
       "\n",
       "    .dataframe thead th {\n",
       "        text-align: right;\n",
       "    }\n",
       "</style>\n",
       "<table border=\"1\" class=\"dataframe\">\n",
       "  <thead>\n",
       "    <tr style=\"text-align: right;\">\n",
       "      <th></th>\n",
       "      <th>Store</th>\n",
       "      <th>Date</th>\n",
       "      <th>Temperature</th>\n",
       "      <th>Fuel_Price</th>\n",
       "      <th>MarkDown1</th>\n",
       "      <th>MarkDown2</th>\n",
       "      <th>MarkDown3</th>\n",
       "      <th>MarkDown4</th>\n",
       "      <th>MarkDown5</th>\n",
       "      <th>CPI</th>\n",
       "      <th>Unemployment_Rate</th>\n",
       "      <th>Holiday</th>\n",
       "    </tr>\n",
       "  </thead>\n",
       "  <tbody>\n",
       "    <tr>\n",
       "      <th>0</th>\n",
       "      <td>1</td>\n",
       "      <td>4/30/2017</td>\n",
       "      <td>42.31</td>\n",
       "      <td>2.572</td>\n",
       "      <td>NaN</td>\n",
       "      <td>NaN</td>\n",
       "      <td>NaN</td>\n",
       "      <td>NaN</td>\n",
       "      <td>NaN</td>\n",
       "      <td>211.096358</td>\n",
       "      <td>8.106</td>\n",
       "      <td>False</td>\n",
       "    </tr>\n",
       "    <tr>\n",
       "      <th>1</th>\n",
       "      <td>1</td>\n",
       "      <td>11/30/2017</td>\n",
       "      <td>38.51</td>\n",
       "      <td>2.548</td>\n",
       "      <td>NaN</td>\n",
       "      <td>NaN</td>\n",
       "      <td>NaN</td>\n",
       "      <td>NaN</td>\n",
       "      <td>NaN</td>\n",
       "      <td>211.242170</td>\n",
       "      <td>8.106</td>\n",
       "      <td>True</td>\n",
       "    </tr>\n",
       "    <tr>\n",
       "      <th>2</th>\n",
       "      <td>1</td>\n",
       "      <td>2/17/2017</td>\n",
       "      <td>39.93</td>\n",
       "      <td>2.514</td>\n",
       "      <td>NaN</td>\n",
       "      <td>NaN</td>\n",
       "      <td>NaN</td>\n",
       "      <td>NaN</td>\n",
       "      <td>NaN</td>\n",
       "      <td>211.289143</td>\n",
       "      <td>8.106</td>\n",
       "      <td>False</td>\n",
       "    </tr>\n",
       "    <tr>\n",
       "      <th>3</th>\n",
       "      <td>1</td>\n",
       "      <td>2/24/2017</td>\n",
       "      <td>46.63</td>\n",
       "      <td>2.561</td>\n",
       "      <td>NaN</td>\n",
       "      <td>NaN</td>\n",
       "      <td>NaN</td>\n",
       "      <td>NaN</td>\n",
       "      <td>NaN</td>\n",
       "      <td>211.319643</td>\n",
       "      <td>8.106</td>\n",
       "      <td>False</td>\n",
       "    </tr>\n",
       "    <tr>\n",
       "      <th>4</th>\n",
       "      <td>1</td>\n",
       "      <td>5/1/2017</td>\n",
       "      <td>46.50</td>\n",
       "      <td>2.625</td>\n",
       "      <td>NaN</td>\n",
       "      <td>NaN</td>\n",
       "      <td>NaN</td>\n",
       "      <td>NaN</td>\n",
       "      <td>NaN</td>\n",
       "      <td>211.350143</td>\n",
       "      <td>8.106</td>\n",
       "      <td>False</td>\n",
       "    </tr>\n",
       "  </tbody>\n",
       "</table>\n",
       "</div>"
      ],
      "text/plain": [
       "   Store        Date  Temperature  Fuel_Price  MarkDown1  MarkDown2  \\\n",
       "0      1   4/30/2017        42.31       2.572        NaN        NaN   \n",
       "1      1  11/30/2017        38.51       2.548        NaN        NaN   \n",
       "2      1   2/17/2017        39.93       2.514        NaN        NaN   \n",
       "3      1   2/24/2017        46.63       2.561        NaN        NaN   \n",
       "4      1    5/1/2017        46.50       2.625        NaN        NaN   \n",
       "\n",
       "   MarkDown3  MarkDown4  MarkDown5         CPI  Unemployment_Rate  Holiday  \n",
       "0        NaN        NaN        NaN  211.096358              8.106    False  \n",
       "1        NaN        NaN        NaN  211.242170              8.106     True  \n",
       "2        NaN        NaN        NaN  211.289143              8.106    False  \n",
       "3        NaN        NaN        NaN  211.319643              8.106    False  \n",
       "4        NaN        NaN        NaN  211.350143              8.106    False  "
      ]
     },
     "execution_count": 5,
     "metadata": {},
     "output_type": "execute_result"
    }
   ],
   "source": [
    "df1.head() #first 5 observation of business data"
   ]
  },
  {
   "cell_type": "code",
   "execution_count": 6,
   "id": "120d18aa",
   "metadata": {},
   "outputs": [
    {
     "data": {
      "text/html": [
       "<div>\n",
       "<style scoped>\n",
       "    .dataframe tbody tr th:only-of-type {\n",
       "        vertical-align: middle;\n",
       "    }\n",
       "\n",
       "    .dataframe tbody tr th {\n",
       "        vertical-align: top;\n",
       "    }\n",
       "\n",
       "    .dataframe thead th {\n",
       "        text-align: right;\n",
       "    }\n",
       "</style>\n",
       "<table border=\"1\" class=\"dataframe\">\n",
       "  <thead>\n",
       "    <tr style=\"text-align: right;\">\n",
       "      <th></th>\n",
       "      <th>Store</th>\n",
       "      <th>Department</th>\n",
       "      <th>Date</th>\n",
       "      <th>Total_Sales</th>\n",
       "      <th>Holiday</th>\n",
       "    </tr>\n",
       "  </thead>\n",
       "  <tbody>\n",
       "    <tr>\n",
       "      <th>0</th>\n",
       "      <td>1</td>\n",
       "      <td>1</td>\n",
       "      <td>4/30/2017</td>\n",
       "      <td>24924.50</td>\n",
       "      <td>False</td>\n",
       "    </tr>\n",
       "    <tr>\n",
       "      <th>1</th>\n",
       "      <td>1</td>\n",
       "      <td>1</td>\n",
       "      <td>11/30/2017</td>\n",
       "      <td>46039.49</td>\n",
       "      <td>True</td>\n",
       "    </tr>\n",
       "    <tr>\n",
       "      <th>2</th>\n",
       "      <td>1</td>\n",
       "      <td>1</td>\n",
       "      <td>2/17/2017</td>\n",
       "      <td>41595.55</td>\n",
       "      <td>False</td>\n",
       "    </tr>\n",
       "    <tr>\n",
       "      <th>3</th>\n",
       "      <td>1</td>\n",
       "      <td>1</td>\n",
       "      <td>2/24/2017</td>\n",
       "      <td>19403.54</td>\n",
       "      <td>False</td>\n",
       "    </tr>\n",
       "    <tr>\n",
       "      <th>4</th>\n",
       "      <td>1</td>\n",
       "      <td>1</td>\n",
       "      <td>5/1/2017</td>\n",
       "      <td>21827.90</td>\n",
       "      <td>False</td>\n",
       "    </tr>\n",
       "  </tbody>\n",
       "</table>\n",
       "</div>"
      ],
      "text/plain": [
       "   Store  Department        Date  Total_Sales  Holiday\n",
       "0      1           1   4/30/2017     24924.50    False\n",
       "1      1           1  11/30/2017     46039.49     True\n",
       "2      1           1   2/17/2017     41595.55    False\n",
       "3      1           1   2/24/2017     19403.54    False\n",
       "4      1           1    5/1/2017     21827.90    False"
      ]
     },
     "execution_count": 6,
     "metadata": {},
     "output_type": "execute_result"
    }
   ],
   "source": [
    "df2.head() # first 5 observation of sales data\n"
   ]
  },
  {
   "cell_type": "code",
   "execution_count": 7,
   "id": "ff96c13c",
   "metadata": {},
   "outputs": [
    {
     "data": {
      "text/html": [
       "<div>\n",
       "<style scoped>\n",
       "    .dataframe tbody tr th:only-of-type {\n",
       "        vertical-align: middle;\n",
       "    }\n",
       "\n",
       "    .dataframe tbody tr th {\n",
       "        vertical-align: top;\n",
       "    }\n",
       "\n",
       "    .dataframe thead th {\n",
       "        text-align: right;\n",
       "    }\n",
       "</style>\n",
       "<table border=\"1\" class=\"dataframe\">\n",
       "  <thead>\n",
       "    <tr style=\"text-align: right;\">\n",
       "      <th></th>\n",
       "      <th>Store</th>\n",
       "      <th>Type</th>\n",
       "      <th>Address</th>\n",
       "      <th>Area_Code</th>\n",
       "      <th>Location</th>\n",
       "      <th>Size</th>\n",
       "    </tr>\n",
       "  </thead>\n",
       "  <tbody>\n",
       "    <tr>\n",
       "      <th>0</th>\n",
       "      <td>1</td>\n",
       "      <td>E-Commerce Fulfillment</td>\n",
       "      <td>1893 W Malvern Ave, Fullerton, California</td>\n",
       "      <td>92835</td>\n",
       "      <td>Applegate Ranch Shopping Cente</td>\n",
       "      <td>151315</td>\n",
       "    </tr>\n",
       "    <tr>\n",
       "      <th>1</th>\n",
       "      <td>2</td>\n",
       "      <td>E-Commerce Fulfillment</td>\n",
       "      <td>1000 Commerce Ave, Atwater, California</td>\n",
       "      <td>95301</td>\n",
       "      <td>Bayfair Cente</td>\n",
       "      <td>202307</td>\n",
       "    </tr>\n",
       "    <tr>\n",
       "      <th>2</th>\n",
       "      <td>3</td>\n",
       "      <td>Food</td>\n",
       "      <td>15555 East 14th Street, San Leandro, California</td>\n",
       "      <td>94578</td>\n",
       "      <td>Capitola Mal</td>\n",
       "      <td>37392</td>\n",
       "    </tr>\n",
       "    <tr>\n",
       "      <th>3</th>\n",
       "      <td>4</td>\n",
       "      <td>E-Commerce Fulfillment</td>\n",
       "      <td>1855 41st Avenue, Capitola, California</td>\n",
       "      <td>95010</td>\n",
       "      <td>Chino Spectrum Marketplace &amp; Towne Cente</td>\n",
       "      <td>205863</td>\n",
       "    </tr>\n",
       "    <tr>\n",
       "      <th>4</th>\n",
       "      <td>5</td>\n",
       "      <td>Food</td>\n",
       "      <td>3800-4046 Grand Ave.&amp; 3801-4097 Grand Ave., Ch...</td>\n",
       "      <td>91710</td>\n",
       "      <td>Eagle Rock Plaz</td>\n",
       "      <td>34875</td>\n",
       "    </tr>\n",
       "  </tbody>\n",
       "</table>\n",
       "</div>"
      ],
      "text/plain": [
       "   Store                    Type  \\\n",
       "0      1  E-Commerce Fulfillment   \n",
       "1      2  E-Commerce Fulfillment   \n",
       "2      3                    Food   \n",
       "3      4  E-Commerce Fulfillment   \n",
       "4      5                    Food   \n",
       "\n",
       "                                             Address  Area_Code  \\\n",
       "0          1893 W Malvern Ave, Fullerton, California      92835   \n",
       "1             1000 Commerce Ave, Atwater, California      95301   \n",
       "2    15555 East 14th Street, San Leandro, California      94578   \n",
       "3             1855 41st Avenue, Capitola, California      95010   \n",
       "4  3800-4046 Grand Ave.& 3801-4097 Grand Ave., Ch...      91710   \n",
       "\n",
       "                                   Location    Size  \n",
       "0            Applegate Ranch Shopping Cente  151315  \n",
       "1                             Bayfair Cente  202307  \n",
       "2                              Capitola Mal   37392  \n",
       "3  Chino Spectrum Marketplace & Towne Cente  205863  \n",
       "4                           Eagle Rock Plaz   34875  "
      ]
     },
     "execution_count": 7,
     "metadata": {},
     "output_type": "execute_result"
    }
   ],
   "source": [
    "df3.head() # first 5 observation of store data"
   ]
  },
  {
   "cell_type": "code",
   "execution_count": 8,
   "id": "c9222b9a",
   "metadata": {},
   "outputs": [],
   "source": [
    "# Removing the garbage columns from Sales data that is holday and department\n",
    "df2.drop(['Holiday','Department'],axis=1,inplace=True)"
   ]
  },
  {
   "cell_type": "code",
   "execution_count": 9,
   "id": "05adec45",
   "metadata": {},
   "outputs": [
    {
     "data": {
      "text/html": [
       "<div>\n",
       "<style scoped>\n",
       "    .dataframe tbody tr th:only-of-type {\n",
       "        vertical-align: middle;\n",
       "    }\n",
       "\n",
       "    .dataframe tbody tr th {\n",
       "        vertical-align: top;\n",
       "    }\n",
       "\n",
       "    .dataframe thead th {\n",
       "        text-align: right;\n",
       "    }\n",
       "</style>\n",
       "<table border=\"1\" class=\"dataframe\">\n",
       "  <thead>\n",
       "    <tr style=\"text-align: right;\">\n",
       "      <th></th>\n",
       "      <th>Store</th>\n",
       "      <th>Date</th>\n",
       "      <th>Total_Sales</th>\n",
       "    </tr>\n",
       "  </thead>\n",
       "  <tbody>\n",
       "    <tr>\n",
       "      <th>0</th>\n",
       "      <td>1</td>\n",
       "      <td>4/30/2017</td>\n",
       "      <td>24924.50</td>\n",
       "    </tr>\n",
       "    <tr>\n",
       "      <th>1</th>\n",
       "      <td>1</td>\n",
       "      <td>11/30/2017</td>\n",
       "      <td>46039.49</td>\n",
       "    </tr>\n",
       "    <tr>\n",
       "      <th>2</th>\n",
       "      <td>1</td>\n",
       "      <td>2/17/2017</td>\n",
       "      <td>41595.55</td>\n",
       "    </tr>\n",
       "    <tr>\n",
       "      <th>3</th>\n",
       "      <td>1</td>\n",
       "      <td>2/24/2017</td>\n",
       "      <td>19403.54</td>\n",
       "    </tr>\n",
       "    <tr>\n",
       "      <th>4</th>\n",
       "      <td>1</td>\n",
       "      <td>5/1/2017</td>\n",
       "      <td>21827.90</td>\n",
       "    </tr>\n",
       "  </tbody>\n",
       "</table>\n",
       "</div>"
      ],
      "text/plain": [
       "   Store        Date  Total_Sales\n",
       "0      1   4/30/2017     24924.50\n",
       "1      1  11/30/2017     46039.49\n",
       "2      1   2/17/2017     41595.55\n",
       "3      1   2/24/2017     19403.54\n",
       "4      1    5/1/2017     21827.90"
      ]
     },
     "execution_count": 9,
     "metadata": {},
     "output_type": "execute_result"
    }
   ],
   "source": [
    "df2.head()"
   ]
  },
  {
   "cell_type": "code",
   "execution_count": 10,
   "id": "7128bb56",
   "metadata": {},
   "outputs": [
    {
     "data": {
      "text/html": [
       "<div>\n",
       "<style scoped>\n",
       "    .dataframe tbody tr th:only-of-type {\n",
       "        vertical-align: middle;\n",
       "    }\n",
       "\n",
       "    .dataframe tbody tr th {\n",
       "        vertical-align: top;\n",
       "    }\n",
       "\n",
       "    .dataframe thead th {\n",
       "        text-align: right;\n",
       "    }\n",
       "</style>\n",
       "<table border=\"1\" class=\"dataframe\">\n",
       "  <thead>\n",
       "    <tr style=\"text-align: right;\">\n",
       "      <th></th>\n",
       "      <th>Store</th>\n",
       "      <th>Date</th>\n",
       "      <th>Total_Sales</th>\n",
       "    </tr>\n",
       "  </thead>\n",
       "  <tbody>\n",
       "    <tr>\n",
       "      <th>0</th>\n",
       "      <td>1</td>\n",
       "      <td>1/11/2019</td>\n",
       "      <td>1459601.17</td>\n",
       "    </tr>\n",
       "    <tr>\n",
       "      <th>1</th>\n",
       "      <td>1</td>\n",
       "      <td>1/12/2018</td>\n",
       "      <td>1391013.96</td>\n",
       "    </tr>\n",
       "    <tr>\n",
       "      <th>2</th>\n",
       "      <td>1</td>\n",
       "      <td>1/18/2019</td>\n",
       "      <td>1394393.84</td>\n",
       "    </tr>\n",
       "    <tr>\n",
       "      <th>3</th>\n",
       "      <td>1</td>\n",
       "      <td>1/19/2018</td>\n",
       "      <td>1327405.42</td>\n",
       "    </tr>\n",
       "    <tr>\n",
       "      <th>4</th>\n",
       "      <td>1</td>\n",
       "      <td>1/2/2018</td>\n",
       "      <td>1495064.75</td>\n",
       "    </tr>\n",
       "  </tbody>\n",
       "</table>\n",
       "</div>"
      ],
      "text/plain": [
       "   Store       Date  Total_Sales\n",
       "0      1  1/11/2019   1459601.17\n",
       "1      1  1/12/2018   1391013.96\n",
       "2      1  1/18/2019   1394393.84\n",
       "3      1  1/19/2018   1327405.42\n",
       "4      1   1/2/2018   1495064.75"
      ]
     },
     "execution_count": 10,
     "metadata": {},
     "output_type": "execute_result"
    }
   ],
   "source": [
    "# group the df2 on date columns\n",
    "df2= df2.groupby(['Store','Date']).agg({'Total_Sales': 'sum'}).reset_index()\n",
    "df2.head()"
   ]
  },
  {
   "cell_type": "code",
   "execution_count": 11,
   "id": "d1fd1976",
   "metadata": {},
   "outputs": [
    {
     "data": {
      "text/plain": [
       "(6435, 3)"
      ]
     },
     "execution_count": 11,
     "metadata": {},
     "output_type": "execute_result"
    }
   ],
   "source": [
    "#  the shape of df2\n",
    "df2.shape"
   ]
  },
  {
   "cell_type": "code",
   "execution_count": 12,
   "id": "5ef4747d",
   "metadata": {},
   "outputs": [
    {
     "data": {
      "text/html": [
       "<div>\n",
       "<style scoped>\n",
       "    .dataframe tbody tr th:only-of-type {\n",
       "        vertical-align: middle;\n",
       "    }\n",
       "\n",
       "    .dataframe tbody tr th {\n",
       "        vertical-align: top;\n",
       "    }\n",
       "\n",
       "    .dataframe thead th {\n",
       "        text-align: right;\n",
       "    }\n",
       "</style>\n",
       "<table border=\"1\" class=\"dataframe\">\n",
       "  <thead>\n",
       "    <tr style=\"text-align: right;\">\n",
       "      <th></th>\n",
       "      <th>Store</th>\n",
       "      <th>Date</th>\n",
       "      <th>Temperature</th>\n",
       "      <th>Fuel_Price</th>\n",
       "      <th>MarkDown1</th>\n",
       "      <th>MarkDown2</th>\n",
       "      <th>MarkDown3</th>\n",
       "      <th>MarkDown4</th>\n",
       "      <th>MarkDown5</th>\n",
       "      <th>CPI</th>\n",
       "      <th>Unemployment_Rate</th>\n",
       "      <th>Holiday</th>\n",
       "      <th>Total_Sales</th>\n",
       "      <th>Type</th>\n",
       "      <th>Address</th>\n",
       "      <th>Area_Code</th>\n",
       "      <th>Location</th>\n",
       "      <th>Size</th>\n",
       "    </tr>\n",
       "  </thead>\n",
       "  <tbody>\n",
       "    <tr>\n",
       "      <th>0</th>\n",
       "      <td>1</td>\n",
       "      <td>4/30/2017</td>\n",
       "      <td>42.31</td>\n",
       "      <td>2.572</td>\n",
       "      <td>NaN</td>\n",
       "      <td>NaN</td>\n",
       "      <td>NaN</td>\n",
       "      <td>NaN</td>\n",
       "      <td>NaN</td>\n",
       "      <td>211.096358</td>\n",
       "      <td>8.106</td>\n",
       "      <td>False</td>\n",
       "      <td>1643690.90</td>\n",
       "      <td>E-Commerce Fulfillment</td>\n",
       "      <td>1893 W Malvern Ave, Fullerton, California</td>\n",
       "      <td>92835</td>\n",
       "      <td>Applegate Ranch Shopping Cente</td>\n",
       "      <td>151315</td>\n",
       "    </tr>\n",
       "    <tr>\n",
       "      <th>1</th>\n",
       "      <td>1</td>\n",
       "      <td>11/30/2017</td>\n",
       "      <td>38.51</td>\n",
       "      <td>2.548</td>\n",
       "      <td>NaN</td>\n",
       "      <td>NaN</td>\n",
       "      <td>NaN</td>\n",
       "      <td>NaN</td>\n",
       "      <td>NaN</td>\n",
       "      <td>211.242170</td>\n",
       "      <td>8.106</td>\n",
       "      <td>True</td>\n",
       "      <td>1641957.44</td>\n",
       "      <td>E-Commerce Fulfillment</td>\n",
       "      <td>1893 W Malvern Ave, Fullerton, California</td>\n",
       "      <td>92835</td>\n",
       "      <td>Applegate Ranch Shopping Cente</td>\n",
       "      <td>151315</td>\n",
       "    </tr>\n",
       "    <tr>\n",
       "      <th>2</th>\n",
       "      <td>1</td>\n",
       "      <td>2/17/2017</td>\n",
       "      <td>39.93</td>\n",
       "      <td>2.514</td>\n",
       "      <td>NaN</td>\n",
       "      <td>NaN</td>\n",
       "      <td>NaN</td>\n",
       "      <td>NaN</td>\n",
       "      <td>NaN</td>\n",
       "      <td>211.289143</td>\n",
       "      <td>8.106</td>\n",
       "      <td>False</td>\n",
       "      <td>1611968.17</td>\n",
       "      <td>E-Commerce Fulfillment</td>\n",
       "      <td>1893 W Malvern Ave, Fullerton, California</td>\n",
       "      <td>92835</td>\n",
       "      <td>Applegate Ranch Shopping Cente</td>\n",
       "      <td>151315</td>\n",
       "    </tr>\n",
       "    <tr>\n",
       "      <th>3</th>\n",
       "      <td>1</td>\n",
       "      <td>2/24/2017</td>\n",
       "      <td>46.63</td>\n",
       "      <td>2.561</td>\n",
       "      <td>NaN</td>\n",
       "      <td>NaN</td>\n",
       "      <td>NaN</td>\n",
       "      <td>NaN</td>\n",
       "      <td>NaN</td>\n",
       "      <td>211.319643</td>\n",
       "      <td>8.106</td>\n",
       "      <td>False</td>\n",
       "      <td>1409727.59</td>\n",
       "      <td>E-Commerce Fulfillment</td>\n",
       "      <td>1893 W Malvern Ave, Fullerton, California</td>\n",
       "      <td>92835</td>\n",
       "      <td>Applegate Ranch Shopping Cente</td>\n",
       "      <td>151315</td>\n",
       "    </tr>\n",
       "    <tr>\n",
       "      <th>4</th>\n",
       "      <td>1</td>\n",
       "      <td>5/1/2017</td>\n",
       "      <td>46.50</td>\n",
       "      <td>2.625</td>\n",
       "      <td>NaN</td>\n",
       "      <td>NaN</td>\n",
       "      <td>NaN</td>\n",
       "      <td>NaN</td>\n",
       "      <td>NaN</td>\n",
       "      <td>211.350143</td>\n",
       "      <td>8.106</td>\n",
       "      <td>False</td>\n",
       "      <td>1554806.68</td>\n",
       "      <td>E-Commerce Fulfillment</td>\n",
       "      <td>1893 W Malvern Ave, Fullerton, California</td>\n",
       "      <td>92835</td>\n",
       "      <td>Applegate Ranch Shopping Cente</td>\n",
       "      <td>151315</td>\n",
       "    </tr>\n",
       "  </tbody>\n",
       "</table>\n",
       "</div>"
      ],
      "text/plain": [
       "   Store        Date  Temperature  Fuel_Price  MarkDown1  MarkDown2  \\\n",
       "0      1   4/30/2017        42.31       2.572        NaN        NaN   \n",
       "1      1  11/30/2017        38.51       2.548        NaN        NaN   \n",
       "2      1   2/17/2017        39.93       2.514        NaN        NaN   \n",
       "3      1   2/24/2017        46.63       2.561        NaN        NaN   \n",
       "4      1    5/1/2017        46.50       2.625        NaN        NaN   \n",
       "\n",
       "   MarkDown3  MarkDown4  MarkDown5         CPI  Unemployment_Rate  Holiday  \\\n",
       "0        NaN        NaN        NaN  211.096358              8.106    False   \n",
       "1        NaN        NaN        NaN  211.242170              8.106     True   \n",
       "2        NaN        NaN        NaN  211.289143              8.106    False   \n",
       "3        NaN        NaN        NaN  211.319643              8.106    False   \n",
       "4        NaN        NaN        NaN  211.350143              8.106    False   \n",
       "\n",
       "   Total_Sales                    Type  \\\n",
       "0   1643690.90  E-Commerce Fulfillment   \n",
       "1   1641957.44  E-Commerce Fulfillment   \n",
       "2   1611968.17  E-Commerce Fulfillment   \n",
       "3   1409727.59  E-Commerce Fulfillment   \n",
       "4   1554806.68  E-Commerce Fulfillment   \n",
       "\n",
       "                                     Address  Area_Code  \\\n",
       "0  1893 W Malvern Ave, Fullerton, California      92835   \n",
       "1  1893 W Malvern Ave, Fullerton, California      92835   \n",
       "2  1893 W Malvern Ave, Fullerton, California      92835   \n",
       "3  1893 W Malvern Ave, Fullerton, California      92835   \n",
       "4  1893 W Malvern Ave, Fullerton, California      92835   \n",
       "\n",
       "                         Location    Size  \n",
       "0  Applegate Ranch Shopping Cente  151315  \n",
       "1  Applegate Ranch Shopping Cente  151315  \n",
       "2  Applegate Ranch Shopping Cente  151315  \n",
       "3  Applegate Ranch Shopping Cente  151315  \n",
       "4  Applegate Ranch Shopping Cente  151315  "
      ]
     },
     "execution_count": 12,
     "metadata": {},
     "output_type": "execute_result"
    }
   ],
   "source": [
    "# Merging all 3 datasets based on common columns\n",
    "df1_df2 = pd.merge(df1, df2, how = 'left', left_on=['Store','Date'], right_on = ['Store','Date'])\n",
    "df = pd.merge(df1_df2, df3, on = 'Store', how = 'left')\n",
    "df.head()"
   ]
  },
  {
   "cell_type": "code",
   "execution_count": 13,
   "id": "59cd5c3f",
   "metadata": {},
   "outputs": [],
   "source": [
    "# Replacing all NA values in the markdowns  with zero as NA stands for \"no discount\"\n",
    "for i in ['MarkDown1','MarkDown2','MarkDown3','MarkDown4','MarkDown5']:\n",
    "  df[i] = df[i].fillna(0)"
   ]
  },
  {
   "cell_type": "code",
   "execution_count": 14,
   "id": "71a5d814",
   "metadata": {},
   "outputs": [],
   "source": [
    "# Replacing the Column Holidays , False =NO, and True=YES\n",
    "df['Holiday']=np.where(df['Holiday']==False,\"No\",\"Yes\")"
   ]
  },
  {
   "cell_type": "code",
   "execution_count": 15,
   "id": "dfe6143e",
   "metadata": {},
   "outputs": [
    {
     "name": "stderr",
     "output_type": "stream",
     "text": [
      "C:\\Users\\Hp\\AppData\\Local\\Temp/ipykernel_2452/1841375807.py:2: FutureWarning: Series.dt.weekofyear and Series.dt.week have been deprecated.  Please use Series.dt.isocalendar().week instead.\n",
      "  df['weeknumber']= pd.to_datetime(df['Date'],errors ='coerce').dt.week\n"
     ]
    }
   ],
   "source": [
    "# converting the column of Date into Datetime datatype and extracting week number from date columns\n",
    "df['weeknumber']= pd.to_datetime(df['Date'],errors ='coerce').dt.week"
   ]
  },
  {
   "cell_type": "code",
   "execution_count": 16,
   "id": "f645b9f8",
   "metadata": {},
   "outputs": [],
   "source": [
    "# adding all the MarksDowns which is discount given on particular dates and names a new column which is Totaol_markdown\n",
    "\n",
    "# Adding all the markdown 1 to 5:\n",
    "df['Total_MarkDown']= df['MarkDown1']+df['MarkDown2']+df['MarkDown3']+df['MarkDown4']+df['MarkDown5']\n",
    "\n",
    "# droping the useless columns \n",
    "df.drop(['MarkDown1','MarkDown2','MarkDown3','MarkDown4','MarkDown5','Date','Store','Address', 'Area_Code', 'Location'], inplace = True,axis=1)"
   ]
  },
  {
   "cell_type": "code",
   "execution_count": 17,
   "id": "e06d905b",
   "metadata": {},
   "outputs": [
    {
     "data": {
      "text/html": [
       "<div>\n",
       "<style scoped>\n",
       "    .dataframe tbody tr th:only-of-type {\n",
       "        vertical-align: middle;\n",
       "    }\n",
       "\n",
       "    .dataframe tbody tr th {\n",
       "        vertical-align: top;\n",
       "    }\n",
       "\n",
       "    .dataframe thead th {\n",
       "        text-align: right;\n",
       "    }\n",
       "</style>\n",
       "<table border=\"1\" class=\"dataframe\">\n",
       "  <thead>\n",
       "    <tr style=\"text-align: right;\">\n",
       "      <th></th>\n",
       "      <th>Temperature</th>\n",
       "      <th>Fuel_Price</th>\n",
       "      <th>CPI</th>\n",
       "      <th>Unemployment_Rate</th>\n",
       "      <th>Holiday</th>\n",
       "      <th>Total_Sales</th>\n",
       "      <th>Type</th>\n",
       "      <th>Size</th>\n",
       "      <th>weeknumber</th>\n",
       "      <th>Total_MarkDown</th>\n",
       "    </tr>\n",
       "  </thead>\n",
       "  <tbody>\n",
       "    <tr>\n",
       "      <th>0</th>\n",
       "      <td>42.31</td>\n",
       "      <td>2.572</td>\n",
       "      <td>211.096358</td>\n",
       "      <td>8.106</td>\n",
       "      <td>No</td>\n",
       "      <td>1643690.90</td>\n",
       "      <td>E-Commerce Fulfillment</td>\n",
       "      <td>151315</td>\n",
       "      <td>17</td>\n",
       "      <td>0.0</td>\n",
       "    </tr>\n",
       "    <tr>\n",
       "      <th>1</th>\n",
       "      <td>38.51</td>\n",
       "      <td>2.548</td>\n",
       "      <td>211.242170</td>\n",
       "      <td>8.106</td>\n",
       "      <td>Yes</td>\n",
       "      <td>1641957.44</td>\n",
       "      <td>E-Commerce Fulfillment</td>\n",
       "      <td>151315</td>\n",
       "      <td>48</td>\n",
       "      <td>0.0</td>\n",
       "    </tr>\n",
       "    <tr>\n",
       "      <th>2</th>\n",
       "      <td>39.93</td>\n",
       "      <td>2.514</td>\n",
       "      <td>211.289143</td>\n",
       "      <td>8.106</td>\n",
       "      <td>No</td>\n",
       "      <td>1611968.17</td>\n",
       "      <td>E-Commerce Fulfillment</td>\n",
       "      <td>151315</td>\n",
       "      <td>7</td>\n",
       "      <td>0.0</td>\n",
       "    </tr>\n",
       "    <tr>\n",
       "      <th>3</th>\n",
       "      <td>46.63</td>\n",
       "      <td>2.561</td>\n",
       "      <td>211.319643</td>\n",
       "      <td>8.106</td>\n",
       "      <td>No</td>\n",
       "      <td>1409727.59</td>\n",
       "      <td>E-Commerce Fulfillment</td>\n",
       "      <td>151315</td>\n",
       "      <td>8</td>\n",
       "      <td>0.0</td>\n",
       "    </tr>\n",
       "    <tr>\n",
       "      <th>4</th>\n",
       "      <td>46.50</td>\n",
       "      <td>2.625</td>\n",
       "      <td>211.350143</td>\n",
       "      <td>8.106</td>\n",
       "      <td>No</td>\n",
       "      <td>1554806.68</td>\n",
       "      <td>E-Commerce Fulfillment</td>\n",
       "      <td>151315</td>\n",
       "      <td>18</td>\n",
       "      <td>0.0</td>\n",
       "    </tr>\n",
       "  </tbody>\n",
       "</table>\n",
       "</div>"
      ],
      "text/plain": [
       "   Temperature  Fuel_Price         CPI  Unemployment_Rate Holiday  \\\n",
       "0        42.31       2.572  211.096358              8.106      No   \n",
       "1        38.51       2.548  211.242170              8.106     Yes   \n",
       "2        39.93       2.514  211.289143              8.106      No   \n",
       "3        46.63       2.561  211.319643              8.106      No   \n",
       "4        46.50       2.625  211.350143              8.106      No   \n",
       "\n",
       "   Total_Sales                    Type    Size  weeknumber  Total_MarkDown  \n",
       "0   1643690.90  E-Commerce Fulfillment  151315          17             0.0  \n",
       "1   1641957.44  E-Commerce Fulfillment  151315          48             0.0  \n",
       "2   1611968.17  E-Commerce Fulfillment  151315           7             0.0  \n",
       "3   1409727.59  E-Commerce Fulfillment  151315           8             0.0  \n",
       "4   1554806.68  E-Commerce Fulfillment  151315          18             0.0  "
      ]
     },
     "execution_count": 17,
     "metadata": {},
     "output_type": "execute_result"
    }
   ],
   "source": [
    "df.head()"
   ]
  },
  {
   "cell_type": "code",
   "execution_count": 18,
   "id": "3193a05a",
   "metadata": {},
   "outputs": [
    {
     "name": "stdout",
     "output_type": "stream",
     "text": [
      "<class 'pandas.core.frame.DataFrame'>\n",
      "Int64Index: 8190 entries, 0 to 8189\n",
      "Data columns (total 10 columns):\n",
      " #   Column             Non-Null Count  Dtype  \n",
      "---  ------             --------------  -----  \n",
      " 0   Temperature        8190 non-null   float64\n",
      " 1   Fuel_Price         8190 non-null   float64\n",
      " 2   CPI                7605 non-null   float64\n",
      " 3   Unemployment_Rate  7605 non-null   float64\n",
      " 4   Holiday            8190 non-null   object \n",
      " 5   Total_Sales        6435 non-null   float64\n",
      " 6   Type               8190 non-null   object \n",
      " 7   Size               8190 non-null   int64  \n",
      " 8   weeknumber         8190 non-null   int64  \n",
      " 9   Total_MarkDown     8190 non-null   float64\n",
      "dtypes: float64(6), int64(2), object(2)\n",
      "memory usage: 703.8+ KB\n"
     ]
    }
   ],
   "source": [
    "df.info()"
   ]
  },
  {
   "cell_type": "code",
   "execution_count": 19,
   "id": "14460e49",
   "metadata": {},
   "outputs": [
    {
     "data": {
      "text/html": [
       "<div>\n",
       "<style scoped>\n",
       "    .dataframe tbody tr th:only-of-type {\n",
       "        vertical-align: middle;\n",
       "    }\n",
       "\n",
       "    .dataframe tbody tr th {\n",
       "        vertical-align: top;\n",
       "    }\n",
       "\n",
       "    .dataframe thead th {\n",
       "        text-align: right;\n",
       "    }\n",
       "</style>\n",
       "<table border=\"1\" class=\"dataframe\">\n",
       "  <thead>\n",
       "    <tr style=\"text-align: right;\">\n",
       "      <th></th>\n",
       "      <th>Temperature</th>\n",
       "      <th>Fuel_Price</th>\n",
       "      <th>CPI</th>\n",
       "      <th>Unemployment_Rate</th>\n",
       "      <th>Total_Sales</th>\n",
       "      <th>Size</th>\n",
       "      <th>weeknumber</th>\n",
       "      <th>Total_MarkDown</th>\n",
       "    </tr>\n",
       "  </thead>\n",
       "  <tbody>\n",
       "    <tr>\n",
       "      <th>count</th>\n",
       "      <td>8190.000000</td>\n",
       "      <td>8190.000000</td>\n",
       "      <td>7605.000000</td>\n",
       "      <td>7605.000000</td>\n",
       "      <td>6.435000e+03</td>\n",
       "      <td>8190.000000</td>\n",
       "      <td>8190.000000</td>\n",
       "      <td>8190.000000</td>\n",
       "    </tr>\n",
       "    <tr>\n",
       "      <th>mean</th>\n",
       "      <td>59.356198</td>\n",
       "      <td>3.405992</td>\n",
       "      <td>172.460809</td>\n",
       "      <td>7.826821</td>\n",
       "      <td>1.046965e+06</td>\n",
       "      <td>130287.600000</td>\n",
       "      <td>25.851648</td>\n",
       "      <td>8881.703448</td>\n",
       "    </tr>\n",
       "    <tr>\n",
       "      <th>std</th>\n",
       "      <td>18.678607</td>\n",
       "      <td>0.431337</td>\n",
       "      <td>39.738346</td>\n",
       "      <td>1.877259</td>\n",
       "      <td>5.643666e+05</td>\n",
       "      <td>63115.971429</td>\n",
       "      <td>14.788965</td>\n",
       "      <td>19084.538888</td>\n",
       "    </tr>\n",
       "    <tr>\n",
       "      <th>min</th>\n",
       "      <td>-7.290000</td>\n",
       "      <td>2.472000</td>\n",
       "      <td>126.064000</td>\n",
       "      <td>3.684000</td>\n",
       "      <td>2.099862e+05</td>\n",
       "      <td>34875.000000</td>\n",
       "      <td>1.000000</td>\n",
       "      <td>-1692.480000</td>\n",
       "    </tr>\n",
       "    <tr>\n",
       "      <th>25%</th>\n",
       "      <td>45.902500</td>\n",
       "      <td>3.041000</td>\n",
       "      <td>132.364839</td>\n",
       "      <td>6.634000</td>\n",
       "      <td>5.533501e+05</td>\n",
       "      <td>70713.000000</td>\n",
       "      <td>13.000000</td>\n",
       "      <td>0.000000</td>\n",
       "    </tr>\n",
       "    <tr>\n",
       "      <th>50%</th>\n",
       "      <td>60.710000</td>\n",
       "      <td>3.513000</td>\n",
       "      <td>182.764003</td>\n",
       "      <td>7.806000</td>\n",
       "      <td>9.607460e+05</td>\n",
       "      <td>126512.000000</td>\n",
       "      <td>25.000000</td>\n",
       "      <td>0.000000</td>\n",
       "    </tr>\n",
       "    <tr>\n",
       "      <th>75%</th>\n",
       "      <td>73.880000</td>\n",
       "      <td>3.743000</td>\n",
       "      <td>213.932412</td>\n",
       "      <td>8.567000</td>\n",
       "      <td>1.420159e+06</td>\n",
       "      <td>202307.000000</td>\n",
       "      <td>38.000000</td>\n",
       "      <td>11819.642500</td>\n",
       "    </tr>\n",
       "    <tr>\n",
       "      <th>max</th>\n",
       "      <td>101.950000</td>\n",
       "      <td>4.468000</td>\n",
       "      <td>228.976456</td>\n",
       "      <td>14.313000</td>\n",
       "      <td>3.818686e+06</td>\n",
       "      <td>219622.000000</td>\n",
       "      <td>52.000000</td>\n",
       "      <td>783529.450000</td>\n",
       "    </tr>\n",
       "  </tbody>\n",
       "</table>\n",
       "</div>"
      ],
      "text/plain": [
       "       Temperature   Fuel_Price          CPI  Unemployment_Rate   Total_Sales  \\\n",
       "count  8190.000000  8190.000000  7605.000000        7605.000000  6.435000e+03   \n",
       "mean     59.356198     3.405992   172.460809           7.826821  1.046965e+06   \n",
       "std      18.678607     0.431337    39.738346           1.877259  5.643666e+05   \n",
       "min      -7.290000     2.472000   126.064000           3.684000  2.099862e+05   \n",
       "25%      45.902500     3.041000   132.364839           6.634000  5.533501e+05   \n",
       "50%      60.710000     3.513000   182.764003           7.806000  9.607460e+05   \n",
       "75%      73.880000     3.743000   213.932412           8.567000  1.420159e+06   \n",
       "max     101.950000     4.468000   228.976456          14.313000  3.818686e+06   \n",
       "\n",
       "                Size   weeknumber  Total_MarkDown  \n",
       "count    8190.000000  8190.000000     8190.000000  \n",
       "mean   130287.600000    25.851648     8881.703448  \n",
       "std     63115.971429    14.788965    19084.538888  \n",
       "min     34875.000000     1.000000    -1692.480000  \n",
       "25%     70713.000000    13.000000        0.000000  \n",
       "50%    126512.000000    25.000000        0.000000  \n",
       "75%    202307.000000    38.000000    11819.642500  \n",
       "max    219622.000000    52.000000   783529.450000  "
      ]
     },
     "execution_count": 19,
     "metadata": {},
     "output_type": "execute_result"
    }
   ],
   "source": [
    "# Now we will check the descriptive statistics of our numerical features\n",
    "df.describe()"
   ]
  },
  {
   "cell_type": "code",
   "execution_count": 20,
   "id": "75493282",
   "metadata": {},
   "outputs": [
    {
     "data": {
      "text/html": [
       "<div>\n",
       "<style scoped>\n",
       "    .dataframe tbody tr th:only-of-type {\n",
       "        vertical-align: middle;\n",
       "    }\n",
       "\n",
       "    .dataframe tbody tr th {\n",
       "        vertical-align: top;\n",
       "    }\n",
       "\n",
       "    .dataframe thead th {\n",
       "        text-align: right;\n",
       "    }\n",
       "</style>\n",
       "<table border=\"1\" class=\"dataframe\">\n",
       "  <thead>\n",
       "    <tr style=\"text-align: right;\">\n",
       "      <th></th>\n",
       "      <th>Temperature</th>\n",
       "      <th>Fuel_Price</th>\n",
       "      <th>CPI</th>\n",
       "      <th>Unemployment_Rate</th>\n",
       "      <th>Holiday</th>\n",
       "      <th>Total_Sales</th>\n",
       "      <th>Type</th>\n",
       "      <th>Size</th>\n",
       "      <th>weeknumber</th>\n",
       "      <th>Total_MarkDown</th>\n",
       "    </tr>\n",
       "  </thead>\n",
       "  <tbody>\n",
       "    <tr>\n",
       "      <th>5437</th>\n",
       "      <td>49.09</td>\n",
       "      <td>3.597</td>\n",
       "      <td>224.054703</td>\n",
       "      <td>6.237</td>\n",
       "      <td>No</td>\n",
       "      <td>NaN</td>\n",
       "      <td>Regional</td>\n",
       "      <td>42988</td>\n",
       "      <td>8</td>\n",
       "      <td>-1692.48</td>\n",
       "    </tr>\n",
       "    <tr>\n",
       "      <th>6518</th>\n",
       "      <td>68.04</td>\n",
       "      <td>3.204</td>\n",
       "      <td>222.325549</td>\n",
       "      <td>6.228</td>\n",
       "      <td>No</td>\n",
       "      <td>NaN</td>\n",
       "      <td>E-Commerce Fulfillment</td>\n",
       "      <td>39910</td>\n",
       "      <td>28</td>\n",
       "      <td>-80.11</td>\n",
       "    </tr>\n",
       "  </tbody>\n",
       "</table>\n",
       "</div>"
      ],
      "text/plain": [
       "      Temperature  Fuel_Price         CPI  Unemployment_Rate Holiday  \\\n",
       "5437        49.09       3.597  224.054703              6.237      No   \n",
       "6518        68.04       3.204  222.325549              6.228      No   \n",
       "\n",
       "      Total_Sales                    Type   Size  weeknumber  Total_MarkDown  \n",
       "5437          NaN                Regional  42988           8        -1692.48  \n",
       "6518          NaN  E-Commerce Fulfillment  39910          28          -80.11  "
      ]
     },
     "execution_count": 20,
     "metadata": {},
     "output_type": "execute_result"
    }
   ],
   "source": [
    "#The Total_MarkDown which is discount given on that particular date, it should not be negative\n",
    "\n",
    "# looking at the neagative discount\n",
    "\n",
    "\n",
    "df[df['Total_MarkDown']<0]"
   ]
  },
  {
   "cell_type": "code",
   "execution_count": 21,
   "id": "ba4ac811",
   "metadata": {},
   "outputs": [
    {
     "data": {
      "text/html": [
       "<div>\n",
       "<style scoped>\n",
       "    .dataframe tbody tr th:only-of-type {\n",
       "        vertical-align: middle;\n",
       "    }\n",
       "\n",
       "    .dataframe tbody tr th {\n",
       "        vertical-align: top;\n",
       "    }\n",
       "\n",
       "    .dataframe thead th {\n",
       "        text-align: right;\n",
       "    }\n",
       "</style>\n",
       "<table border=\"1\" class=\"dataframe\">\n",
       "  <thead>\n",
       "    <tr style=\"text-align: right;\">\n",
       "      <th></th>\n",
       "      <th>Temperature</th>\n",
       "      <th>Fuel_Price</th>\n",
       "      <th>CPI</th>\n",
       "      <th>Unemployment_Rate</th>\n",
       "      <th>Total_Sales</th>\n",
       "      <th>Size</th>\n",
       "      <th>weeknumber</th>\n",
       "      <th>Total_MarkDown</th>\n",
       "    </tr>\n",
       "  </thead>\n",
       "  <tbody>\n",
       "    <tr>\n",
       "      <th>count</th>\n",
       "      <td>8188.000000</td>\n",
       "      <td>8188.000000</td>\n",
       "      <td>7603.000000</td>\n",
       "      <td>7603.000000</td>\n",
       "      <td>6.435000e+03</td>\n",
       "      <td>8188.000000</td>\n",
       "      <td>8188.000000</td>\n",
       "      <td>8188.000000</td>\n",
       "    </tr>\n",
       "    <tr>\n",
       "      <th>mean</th>\n",
       "      <td>59.356391</td>\n",
       "      <td>3.405993</td>\n",
       "      <td>172.447465</td>\n",
       "      <td>7.827240</td>\n",
       "      <td>1.046965e+06</td>\n",
       "      <td>130309.299707</td>\n",
       "      <td>25.853566</td>\n",
       "      <td>8884.089378</td>\n",
       "    </tr>\n",
       "    <tr>\n",
       "      <th>std</th>\n",
       "      <td>18.680297</td>\n",
       "      <td>0.431378</td>\n",
       "      <td>39.735050</td>\n",
       "      <td>1.877327</td>\n",
       "      <td>5.643666e+05</td>\n",
       "      <td>63108.398424</td>\n",
       "      <td>14.789436</td>\n",
       "      <td>19086.254913</td>\n",
       "    </tr>\n",
       "    <tr>\n",
       "      <th>min</th>\n",
       "      <td>-7.290000</td>\n",
       "      <td>2.472000</td>\n",
       "      <td>126.064000</td>\n",
       "      <td>3.684000</td>\n",
       "      <td>2.099862e+05</td>\n",
       "      <td>34875.000000</td>\n",
       "      <td>1.000000</td>\n",
       "      <td>0.000000</td>\n",
       "    </tr>\n",
       "    <tr>\n",
       "      <th>25%</th>\n",
       "      <td>45.900000</td>\n",
       "      <td>3.041000</td>\n",
       "      <td>132.364839</td>\n",
       "      <td>6.634000</td>\n",
       "      <td>5.533501e+05</td>\n",
       "      <td>70713.000000</td>\n",
       "      <td>13.000000</td>\n",
       "      <td>0.000000</td>\n",
       "    </tr>\n",
       "    <tr>\n",
       "      <th>50%</th>\n",
       "      <td>60.710000</td>\n",
       "      <td>3.513000</td>\n",
       "      <td>182.716838</td>\n",
       "      <td>7.806000</td>\n",
       "      <td>9.607460e+05</td>\n",
       "      <td>126512.000000</td>\n",
       "      <td>25.000000</td>\n",
       "      <td>0.000000</td>\n",
       "    </tr>\n",
       "    <tr>\n",
       "      <th>75%</th>\n",
       "      <td>73.880000</td>\n",
       "      <td>3.743000</td>\n",
       "      <td>213.932412</td>\n",
       "      <td>8.567000</td>\n",
       "      <td>1.420159e+06</td>\n",
       "      <td>202307.000000</td>\n",
       "      <td>38.000000</td>\n",
       "      <td>11824.377500</td>\n",
       "    </tr>\n",
       "    <tr>\n",
       "      <th>max</th>\n",
       "      <td>101.950000</td>\n",
       "      <td>4.468000</td>\n",
       "      <td>228.976456</td>\n",
       "      <td>14.313000</td>\n",
       "      <td>3.818686e+06</td>\n",
       "      <td>219622.000000</td>\n",
       "      <td>52.000000</td>\n",
       "      <td>783529.450000</td>\n",
       "    </tr>\n",
       "  </tbody>\n",
       "</table>\n",
       "</div>"
      ],
      "text/plain": [
       "       Temperature   Fuel_Price          CPI  Unemployment_Rate   Total_Sales  \\\n",
       "count  8188.000000  8188.000000  7603.000000        7603.000000  6.435000e+03   \n",
       "mean     59.356391     3.405993   172.447465           7.827240  1.046965e+06   \n",
       "std      18.680297     0.431378    39.735050           1.877327  5.643666e+05   \n",
       "min      -7.290000     2.472000   126.064000           3.684000  2.099862e+05   \n",
       "25%      45.900000     3.041000   132.364839           6.634000  5.533501e+05   \n",
       "50%      60.710000     3.513000   182.716838           7.806000  9.607460e+05   \n",
       "75%      73.880000     3.743000   213.932412           8.567000  1.420159e+06   \n",
       "max     101.950000     4.468000   228.976456          14.313000  3.818686e+06   \n",
       "\n",
       "                Size   weeknumber  Total_MarkDown  \n",
       "count    8188.000000  8188.000000     8188.000000  \n",
       "mean   130309.299707    25.853566     8884.089378  \n",
       "std     63108.398424    14.789436    19086.254913  \n",
       "min     34875.000000     1.000000        0.000000  \n",
       "25%     70713.000000    13.000000        0.000000  \n",
       "50%    126512.000000    25.000000        0.000000  \n",
       "75%    202307.000000    38.000000    11824.377500  \n",
       "max    219622.000000    52.000000   783529.450000  "
      ]
     },
     "execution_count": 21,
     "metadata": {},
     "output_type": "execute_result"
    }
   ],
   "source": [
    "# Droping all the Total_MarkDown  values  less than 0 in columns 'Total_MarkDown'\n",
    "df.drop(df.index[df['Total_MarkDown'] < 0], inplace = True)\n",
    "df.describe()"
   ]
  },
  {
   "cell_type": "code",
   "execution_count": 22,
   "id": "c11404dc",
   "metadata": {},
   "outputs": [
    {
     "data": {
      "text/plain": [
       "Temperature             0\n",
       "Fuel_Price              0\n",
       "CPI                   585\n",
       "Unemployment_Rate     585\n",
       "Holiday                 0\n",
       "Total_Sales          1753\n",
       "Type                    0\n",
       "Size                    0\n",
       "weeknumber              0\n",
       "Total_MarkDown          0\n",
       "dtype: int64"
      ]
     },
     "execution_count": 22,
     "metadata": {},
     "output_type": "execute_result"
    }
   ],
   "source": [
    "# Number of missing values in each column of the dataset\n",
    "df.isnull().sum()"
   ]
  },
  {
   "cell_type": "code",
   "execution_count": 23,
   "id": "ed2b8da8",
   "metadata": {},
   "outputs": [
    {
     "data": {
      "text/plain": [
       "Temperature          0.000000\n",
       "Fuel_Price           0.000000\n",
       "CPI                  0.071446\n",
       "Unemployment_Rate    0.071446\n",
       "Holiday              0.000000\n",
       "Total_Sales          0.214094\n",
       "Type                 0.000000\n",
       "Size                 0.000000\n",
       "weeknumber           0.000000\n",
       "Total_MarkDown       0.000000\n",
       "dtype: float64"
      ]
     },
     "execution_count": 23,
     "metadata": {},
     "output_type": "execute_result"
    }
   ],
   "source": [
    "# Percentage of missing vaue \n",
    "df.isnull().sum()/len(df)"
   ]
  },
  {
   "cell_type": "code",
   "execution_count": 24,
   "id": "40e9e8f0",
   "metadata": {},
   "outputs": [],
   "source": [
    "#\"Total_Sales\" has 53.8 % missing values representing those rows where we need to predict \"Total_sales\" thus we dont treat them.\n",
    "# Handling the missing values in column CPI \n",
    "df['CPI'].fillna(df1['CPI'].mean(),inplace=True)\n",
    "\n",
    "# Handling the missing values in column Unemployment_Rate \n",
    "df['Unemployment_Rate'].fillna(df1['Unemployment_Rate'].mean(),inplace=True)"
   ]
  },
  {
   "cell_type": "code",
   "execution_count": 25,
   "id": "0ccad897",
   "metadata": {},
   "outputs": [
    {
     "data": {
      "text/plain": [
       "Temperature          0.000000\n",
       "Fuel_Price           0.000000\n",
       "CPI                  0.000000\n",
       "Unemployment_Rate    0.000000\n",
       "Holiday              0.000000\n",
       "Total_Sales          0.214094\n",
       "Type                 0.000000\n",
       "Size                 0.000000\n",
       "weeknumber           0.000000\n",
       "Total_MarkDown       0.000000\n",
       "dtype: float64"
      ]
     },
     "execution_count": 25,
     "metadata": {},
     "output_type": "execute_result"
    }
   ],
   "source": [
    "df.isnull().sum()/len(df) ## no missing values"
   ]
  },
  {
   "cell_type": "code",
   "execution_count": 26,
   "id": "a1032999",
   "metadata": {},
   "outputs": [],
   "source": [
    "## OUTLIER TREATMENT\n",
    "# Function to return outliers\n",
    "def detect_outlier(data):\n",
    "    outliers=[]\n",
    "    threshold = 3\n",
    "    mean = np.mean(data)\n",
    "    std =np.std(data)\n",
    "    \n",
    "    \n",
    "    for y in data:\n",
    "        z_score= (y - mean)/std \n",
    "        if np.abs(z_score) > threshold:\n",
    "            outliers.append(y)\n",
    "    return outliers"
   ]
  },
  {
   "cell_type": "code",
   "execution_count": 27,
   "id": "4ef23498",
   "metadata": {},
   "outputs": [
    {
     "data": {
      "image/png": "[encoded data removed]",
      "text/plain": [
       "<Figure size 720x432 with 1 Axes>"
      ]
     },
     "metadata": {
      "needs_background": "light"
     },
     "output_type": "display_data"
    }
   ],
   "source": [
    "# Boxplot plot to check if there are any outliers in the 'Temperature' column \n",
    "plt.figure(figsize=(10,6))\n",
    "plt.boxplot(df['Temperature'])\n",
    "plt.title(\"Boxplot for 'Temperature' column\")\n",
    "plt.show() ## OUTLIER PRESENT"
   ]
  },
  {
   "cell_type": "code",
   "execution_count": 28,
   "id": "38c501ab",
   "metadata": {},
   "outputs": [
    {
     "name": "stdout",
     "output_type": "stream",
     "text": [
      "Outliers for 'Temperature' column are :  [-2.06, 2.32, -6.08, -6.61, -7.29, 2.45, 0.25]\n"
     ]
    }
   ],
   "source": [
    "# Outliers in 'Temperature' column\n",
    "outlier_data = detect_outlier(df['Temperature'])\n",
    "print(\"Outliers for 'Temperature' column are : \", outlier_data) #not removing outlier becuse temperature going beyong -7 is fine"
   ]
  },
  {
   "cell_type": "code",
   "execution_count": 29,
   "id": "ccd139ce",
   "metadata": {},
   "outputs": [
    {
     "data": {
      "image/png": "[encoded data removed]",
      "text/plain": [
       "<Figure size 720x432 with 1 Axes>"
      ]
     },
     "metadata": {
      "needs_background": "light"
     },
     "output_type": "display_data"
    }
   ],
   "source": [
    "# Boxplot plot to check if there are any outliers in the fuel column \n",
    "plt.figure(figsize=(10,6))\n",
    "plt.boxplot(df['Fuel_Price'])\n",
    "plt.title(\"Boxplot for 'Fuel_Price' column\")\n",
    "plt.show()  # no outliers found"
   ]
  },
  {
   "cell_type": "code",
   "execution_count": 30,
   "id": "04ccd2b7",
   "metadata": {},
   "outputs": [
    {
     "data": {
      "image/png": "[encoded data removed]",
      "text/plain": [
       "<Figure size 720x432 with 1 Axes>"
      ]
     },
     "metadata": {
      "needs_background": "light"
     },
     "output_type": "display_data"
    }
   ],
   "source": [
    "# Boxplot plot to check if there are any outliers in the 'cpi column \n",
    "plt.figure(figsize=(10,6))\n",
    "plt.boxplot(df['CPI'])\n",
    "plt.title(\"Boxplot for 'CPI' column\",fontsize=15)\n",
    "plt.show()  # no outliers found"
   ]
  },
  {
   "cell_type": "code",
   "execution_count": 31,
   "id": "e6ca2e61",
   "metadata": {},
   "outputs": [
    {
     "data": {
      "image/png": "[encoded data removed]",
      "text/plain": [
       "<Figure size 720x432 with 1 Axes>"
      ]
     },
     "metadata": {
      "needs_background": "light"
     },
     "output_type": "display_data"
    }
   ],
   "source": [
    "# Boxplot plot to check if there are any outliers in the Unemployment_Rate column \n",
    "plt.figure(figsize=(10,6))\n",
    "plt.boxplot(df['Unemployment_Rate'])\n",
    "plt.title(\"Boxplot for 'Unemployment_Rate' column\")\n",
    "plt.show()  #Outliers found"
   ]
  },
  {
   "cell_type": "code",
   "execution_count": 32,
   "id": "e67197c5",
   "metadata": {},
   "outputs": [
    {
     "name": "stdout",
     "output_type": "stream",
     "text": [
      "Outliers for 'Unemployment_Rate' column are :  [13.975, 13.975, 13.975, 13.975, 13.975, 13.975, 13.975, 13.975, 14.099, 14.099, 14.099, 14.099, 14.099, 14.099, 14.099, 14.099, 14.099, 14.099, 14.099, 14.099, 14.099, 14.18, 14.18, 14.18, 14.18, 14.18, 14.18, 14.18, 14.18, 14.18, 14.18, 14.18, 14.18, 14.18, 14.313, 14.313, 14.313, 14.313, 14.313, 14.313, 14.313, 14.313, 14.313, 14.313, 14.313, 14.313, 14.313, 14.313, 14.021, 14.021, 14.021, 14.021, 14.021, 14.021, 14.021, 14.021, 14.021, 14.021, 14.021, 14.021, 13.736, 13.736, 13.736, 13.736, 13.736, 13.736, 13.736, 13.736, 13.736, 13.736, 13.736, 13.736, 13.736, 13.503, 13.503, 13.503, 13.503, 13.503, 13.503, 13.503, 13.503, 13.503, 13.503, 13.503, 13.503, 13.503, 13.503, 13.975, 13.975, 13.975, 13.975, 13.975, 13.975, 13.975, 13.975, 14.099, 14.099, 14.099, 14.099, 14.099, 14.099, 14.099, 14.099, 14.099, 14.099, 14.099, 14.099, 14.099, 14.18, 14.18, 14.18, 14.18, 14.18, 14.18, 14.18, 14.18, 14.18, 14.18, 14.18, 14.18, 14.18, 14.313, 14.313, 14.313, 14.313, 14.313, 14.313, 14.313, 14.313, 14.313, 14.313, 14.313, 14.313, 14.313, 14.313, 14.021, 14.021, 14.021, 14.021, 14.021, 14.021, 14.021, 14.021, 14.021, 14.021, 14.021, 14.021, 13.736, 13.736, 13.736, 13.736, 13.736, 13.736, 13.736, 13.736, 13.736, 13.736, 13.736, 13.736, 13.736, 13.503, 13.503, 13.503, 13.503, 13.503, 13.503, 13.503, 13.503, 13.503, 13.503, 13.503, 13.503, 13.503, 13.503, 13.975, 13.975, 13.975, 13.975, 13.975, 13.975, 13.975, 13.975, 14.099, 14.099, 14.099, 14.099, 14.099, 14.099, 14.099, 14.099, 14.099, 14.099, 14.099, 14.099, 14.099, 14.18, 14.18, 14.18, 14.18, 14.18, 14.18, 14.18, 14.18, 14.18, 14.18, 14.18, 14.18, 14.18, 14.313, 14.313, 14.313, 14.313, 14.313, 14.313, 14.313, 14.313, 14.313, 14.313, 14.313, 14.313, 14.313, 14.313, 14.021, 14.021, 14.021, 14.021, 14.021, 14.021, 14.021, 14.021, 14.021, 14.021, 14.021, 14.021, 13.736, 13.736, 13.736, 13.736, 13.736, 13.736, 13.736, 13.736, 13.736, 13.736, 13.736, 13.736, 13.736, 13.503, 13.503, 13.503, 13.503, 13.503, 13.503, 13.503, 13.503, 13.503, 13.503, 13.503, 13.503, 13.503, 13.503]\n"
     ]
    }
   ],
   "source": [
    "# Outliers in 'Unemployment_Rate' column\n",
    "outlier_data = detect_outlier(df['Unemployment_Rate'])\n",
    "print(\"Outliers for 'Unemployment_Rate' column are : \", outlier_data)## Unemployment rate going beyong 13 is fine.thus not removing the outliers"
   ]
  },
  {
   "cell_type": "code",
   "execution_count": 33,
   "id": "eca61979",
   "metadata": {},
   "outputs": [
    {
     "data": {
      "image/png": "[encoded data removed]",
      "text/plain": [
       "<Figure size 720x432 with 1 Axes>"
      ]
     },
     "metadata": {
      "needs_background": "light"
     },
     "output_type": "display_data"
    }
   ],
   "source": [
    "# Boxplot to check if there are any outliers in the 'Size' column \n",
    "plt.figure(figsize=(10,6))\n",
    "plt.boxplot(df['Size'])\n",
    "plt.title(\"Boxplot for 'Size' column\")\n",
    "plt.show()  # no outliers found"
   ]
  },
  {
   "cell_type": "code",
   "execution_count": 34,
   "id": "946c58ee",
   "metadata": {},
   "outputs": [
    {
     "data": {
      "image/png": "[encoded data removed]",
      "text/plain": [
       "<Figure size 720x432 with 1 Axes>"
      ]
     },
     "metadata": {
      "needs_background": "light"
     },
     "output_type": "display_data"
    }
   ],
   "source": [
    "# Boxplot to check if there are any outliers in the 'Total_markdown' column \n",
    "plt.figure(figsize=(10,6))\n",
    "plt.boxplot(df['Total_MarkDown'])\n",
    "plt.title(\"Boxplot for 'Total_MarkDown' column\")\n",
    "plt.show()##outliers found"
   ]
  },
  {
   "cell_type": "code",
   "execution_count": 35,
   "id": "b287d6d6",
   "metadata": {},
   "outputs": [
    {
     "name": "stdout",
     "output_type": "stream",
     "text": [
      "Outliers for 'Total_MarkDown' column are :  [76351.06999999999, 76311.31000000001, 98974.87, 80045.4, 105528.0, 134773.50999999998, 109611.15000000001, 73717.26, 117660.84, 93322.93, 82098.40000000001, 110681.95, 101118.65999999999, 110853.45, 73561.14000000001, 84794.95, 92849.95, 74133.28, 115281.12999999999, 67107.66, 66563.21, 106926.52000000002, 77418.75, 78684.32999999999, 143223.31, 117682.51999999999, 83583.57, 149976.71, 79820.62999999999, 119437.66, 73367.27, 96513.93000000001, 85532.16, 122659.41, 70708.06, 70669.22, 133315.06, 66720.95999999999, 101355.79, 115446.52, 75070.48000000001, 114565.27, 70523.39, 100916.17, 126999.28, 66448.95, 69704.73, 153504.44, 75974.07, 178693.13999999998, 91671.96, 83143.31, 67395.51, 143777.92, 66197.91, 108493.39, 116118.54, 67634.55, 78258.6, 67583.15000000001, 78646.05, 96601.45, 106255.08, 72758.08, 69881.05, 81094.48, 75210.07999999999, 101206.8, 93464.21999999999, 117920.3, 118242.04, 66982.93000000001, 69327.23, 151904.86000000002, 104110.89, 77843.59, 109430.24, 129826.79999999999, 67883.09, 142144.53, 76408.52000000002, 162215.21000000002, 129302.27, 77011.65, 68163.77, 160510.61000000002, 78509.26000000001, 117395.42000000001, 104793.96, 90430.76, 134270.43, 80046.29999999999, 132521.80000000002, 70826.98, 124063.01000000001, 85429.91, 134790.92, 90881.76999999999, 80531.81, 76205.91, 73920.90000000001, 74690.31999999999, 142563.99000000002, 71678.44, 68199.67, 105689.59000000001, 83854.23, 108645.33999999998, 66157.93, 104113.29000000001, 783529.45, 87218.07, 105268.55, 77651.58, 104368.52, 110646.09, 74378.05, 87176.4, 85667.88, 107592.2, 139280.71, 66304.31, 110659.29999999999, 89088.16, 90500.67000000001, 140569.99000000002, 82596.35, 68197.64, 102094.99, 91395.65999999999, 125536.02, 113752.52, 74552.97, 125001.4, 109556.21999999999, 91813.19, 75913.41, 115812.95, 82999.08, 70357.76000000001, 68273.42, 83589.44999999998, 99900.31999999999, 68113.75, 101378.85999999999, 138028.38, 83809.57, 74652.61999999998, 81978.85]\n"
     ]
    }
   ],
   "source": [
    "# Outliers in 'Total_markdown' column\n",
    "outlier_data = detect_outlier(df['Total_MarkDown'])\n",
    "print(\"Outliers for 'Total_MarkDown' column are : \", outlier_data)"
   ]
  },
  {
   "cell_type": "code",
   "execution_count": 36,
   "id": "dd382208",
   "metadata": {},
   "outputs": [
    {
     "name": "stderr",
     "output_type": "stream",
     "text": [
      "C:\\Users\\Hp\\anaconda3\\lib\\site-packages\\seaborn\\distributions.py:2619: FutureWarning: `distplot` is a deprecated function and will be removed in a future version. Please adapt your code to use either `displot` (a figure-level function with similar flexibility) or `histplot` (an axes-level function for histograms).\n",
      "  warnings.warn(msg, FutureWarning)\n"
     ]
    },
    {
     "data": {
      "text/plain": [
       "Text(0.5, 1.0, 'The Total_MarkDown distributions')"
      ]
     },
     "execution_count": 36,
     "metadata": {},
     "output_type": "execute_result"
    },
    {
     "data": {
      "image/png": "[encoded data removed]",
      "text/plain": [
       "<Figure size 720x432 with 1 Axes>"
      ]
     },
     "metadata": {
      "needs_background": "light"
     },
     "output_type": "display_data"
    }
   ],
   "source": [
    "plt.figure(figsize=(10,6))\n",
    "sns.distplot(df['Total_MarkDown'])\n",
    "plt.xlabel('The Total_MarkDown')\n",
    "plt.ylabel('count')\n",
    "plt.title('The Total_MarkDown distributions')"
   ]
  },
  {
   "cell_type": "code",
   "execution_count": 37,
   "id": "ade53df2",
   "metadata": {},
   "outputs": [],
   "source": [
    "## Fearture Scaling\n",
    "# Continuous variables and categorical variables\n",
    "continuous_variable= df[[\"Temperature\", \"Fuel_Price\", \"CPI\", \"Unemployment_Rate\", \"Total_Sales\", \"Size\"]]\n",
    "categorical_variable = df[[\"Holiday\", \"Type\",\"Total_MarkDown\"]]"
   ]
  },
  {
   "cell_type": "code",
   "execution_count": 38,
   "id": "a16fd6ff",
   "metadata": {},
   "outputs": [
    {
     "data": {
      "text/html": [
       "<div>\n",
       "<style scoped>\n",
       "    .dataframe tbody tr th:only-of-type {\n",
       "        vertical-align: middle;\n",
       "    }\n",
       "\n",
       "    .dataframe tbody tr th {\n",
       "        vertical-align: top;\n",
       "    }\n",
       "\n",
       "    .dataframe thead th {\n",
       "        text-align: right;\n",
       "    }\n",
       "</style>\n",
       "<table border=\"1\" class=\"dataframe\">\n",
       "  <thead>\n",
       "    <tr style=\"text-align: right;\">\n",
       "      <th></th>\n",
       "      <th>Temperature</th>\n",
       "      <th>Fuel_Price</th>\n",
       "      <th>CPI</th>\n",
       "      <th>Unemployment_Rate</th>\n",
       "      <th>Total_Sales</th>\n",
       "      <th>Size</th>\n",
       "    </tr>\n",
       "  </thead>\n",
       "  <tbody>\n",
       "    <tr>\n",
       "      <th>Temperature</th>\n",
       "      <td>1.000000</td>\n",
       "      <td>0.101416</td>\n",
       "      <td>0.158765</td>\n",
       "      <td>0.145653</td>\n",
       "      <td>-0.063810</td>\n",
       "      <td>-0.093383</td>\n",
       "    </tr>\n",
       "    <tr>\n",
       "      <th>Fuel_Price</th>\n",
       "      <td>0.101416</td>\n",
       "      <td>1.000000</td>\n",
       "      <td>-0.184169</td>\n",
       "      <td>-0.032907</td>\n",
       "      <td>0.009464</td>\n",
       "      <td>0.015077</td>\n",
       "    </tr>\n",
       "    <tr>\n",
       "      <th>CPI</th>\n",
       "      <td>0.158765</td>\n",
       "      <td>-0.184169</td>\n",
       "      <td>1.000000</td>\n",
       "      <td>-0.302919</td>\n",
       "      <td>-0.072634</td>\n",
       "      <td>-0.008955</td>\n",
       "    </tr>\n",
       "    <tr>\n",
       "      <th>Unemployment_Rate</th>\n",
       "      <td>0.145653</td>\n",
       "      <td>-0.032907</td>\n",
       "      <td>-0.302919</td>\n",
       "      <td>1.000000</td>\n",
       "      <td>-0.106176</td>\n",
       "      <td>-0.073715</td>\n",
       "    </tr>\n",
       "    <tr>\n",
       "      <th>Total_Sales</th>\n",
       "      <td>-0.063810</td>\n",
       "      <td>0.009464</td>\n",
       "      <td>-0.072634</td>\n",
       "      <td>-0.106176</td>\n",
       "      <td>1.000000</td>\n",
       "      <td>0.810468</td>\n",
       "    </tr>\n",
       "    <tr>\n",
       "      <th>Size</th>\n",
       "      <td>-0.093383</td>\n",
       "      <td>0.015077</td>\n",
       "      <td>-0.008955</td>\n",
       "      <td>-0.073715</td>\n",
       "      <td>0.810468</td>\n",
       "      <td>1.000000</td>\n",
       "    </tr>\n",
       "  </tbody>\n",
       "</table>\n",
       "</div>"
      ],
      "text/plain": [
       "                   Temperature  Fuel_Price       CPI  Unemployment_Rate  \\\n",
       "Temperature           1.000000    0.101416  0.158765           0.145653   \n",
       "Fuel_Price            0.101416    1.000000 -0.184169          -0.032907   \n",
       "CPI                   0.158765   -0.184169  1.000000          -0.302919   \n",
       "Unemployment_Rate     0.145653   -0.032907 -0.302919           1.000000   \n",
       "Total_Sales          -0.063810    0.009464 -0.072634          -0.106176   \n",
       "Size                 -0.093383    0.015077 -0.008955          -0.073715   \n",
       "\n",
       "                   Total_Sales      Size  \n",
       "Temperature          -0.063810 -0.093383  \n",
       "Fuel_Price            0.009464  0.015077  \n",
       "CPI                  -0.072634 -0.008955  \n",
       "Unemployment_Rate    -0.106176 -0.073715  \n",
       "Total_Sales           1.000000  0.810468  \n",
       "Size                  0.810468  1.000000  "
      ]
     },
     "execution_count": 38,
     "metadata": {},
     "output_type": "execute_result"
    }
   ],
   "source": [
    "continuous_variable.corr()"
   ]
  },
  {
   "cell_type": "code",
   "execution_count": 39,
   "id": "dcca10e4",
   "metadata": {},
   "outputs": [
    {
     "data": {
      "text/plain": [
       "<AxesSubplot:>"
      ]
     },
     "execution_count": 39,
     "metadata": {},
     "output_type": "execute_result"
    },
    {
     "data": {
      "image/png": "[encoded data removed]",
      "text/plain": [
       "<Figure size 720x576 with 2 Axes>"
      ]
     },
     "metadata": {
      "needs_background": "light"
     },
     "output_type": "display_data"
    }
   ],
   "source": [
    "# Heatmap\n",
    "plt.figure(figsize=(10,8))\n",
    "sns.heatmap(continuous_variable.corr(),annot = True, cmap = \"YlGnBu\")\n",
    "#Total_sales vs Temeprature---> Weak correlation\n",
    "#Total_sales vs fuel_price---> No correlation\n",
    "#Total_sales vs CPI---> Weak correlation\n",
    "#Total_sales vs unemployment_rate---> Weak correlation\n",
    "#Total_sales vs size--->strong positive correlation"
   ]
  },
  {
   "cell_type": "code",
   "execution_count": 40,
   "id": "8bb350fd",
   "metadata": {},
   "outputs": [],
   "source": [
    "# finding and removing correlated features\n",
    "def correlation(dataset, threshold):\n",
    "    col_corr = set()  # Set of all the names of correlated columns\n",
    "    corr_matrix = dataset.corr()\n",
    "    for i in range(len(corr_matrix.columns)):\n",
    "        for j in range(i):\n",
    "            if abs(corr_matrix.iloc[i, j]) > threshold: # we are interested in absolute coeff value\n",
    "                colname = corr_matrix.columns[i]  # getting the name of column\n",
    "                col_corr.add(colname)\n",
    "    return col_corr"
   ]
  },
  {
   "cell_type": "code",
   "execution_count": 41,
   "id": "2cd781a4",
   "metadata": {},
   "outputs": [
    {
     "data": {
      "text/plain": [
       "set()"
      ]
     },
     "execution_count": 41,
     "metadata": {},
     "output_type": "execute_result"
    }
   ],
   "source": [
    "correlation(continuous_variable,0.9)## taking threshold as 0.9"
   ]
  },
  {
   "cell_type": "code",
   "execution_count": 42,
   "id": "4477260d",
   "metadata": {},
   "outputs": [],
   "source": [
    "##There is no multi colinearity\n",
    "# We will remove fuel price \n",
    "df.drop('Fuel_Price',axis=1,inplace=True)"
   ]
  },
  {
   "cell_type": "code",
   "execution_count": 43,
   "id": "1c8af705",
   "metadata": {},
   "outputs": [
    {
     "name": "stdout",
     "output_type": "stream",
     "text": [
      "Anova test results for Holiday\n",
      "              df        sum_sq       mean_sq         F    PR(>F)\n",
      "Holiday      1.0  2.788970e+12  2.788970e+12  8.766881  0.003079\n",
      "Residual  6433.0  2.046502e+15  3.181257e+11       NaN       NaN\n",
      "\n",
      "\n",
      "Anova test results for Type\n",
      "              df        sum_sq       mean_sq            F  PR(>F)\n",
      "Type         2.0  7.469750e+14  3.734875e+14  1844.614512     0.0\n",
      "Residual  6432.0  1.302316e+15  2.024746e+11          NaN     NaN\n",
      "\n",
      "\n",
      "Anova test results for Total_MarkDown\n",
      "                    df        sum_sq       mean_sq         F        PR(>F)\n",
      "Total_MarkDown     1.0  1.102487e+14  1.102487e+14  365.7628  2.413244e-79\n",
      "Residual        6433.0  1.939043e+15  3.014212e+11       NaN           NaN\n",
      "\n",
      "\n"
     ]
    }
   ],
   "source": [
    "#categorical vs contnoius----> ANOVA testing\n",
    "\n",
    "import statsmodels.api as sm\n",
    "from statsmodels.formula.api import ols\n",
    "\n",
    "\n",
    "for col in categorical_variable:\n",
    "    model = ols('Total_Sales' + '~' + col, data = df).fit() # Oridnary least square method\n",
    "    result_anova = sm.stats.anova_lm(model) # ANOVA Test\n",
    "    print(\"Anova test results for\", col)\n",
    "    print(result_anova)\n",
    "    print(\"\\n\")"
   ]
  },
  {
   "cell_type": "code",
   "execution_count": 44,
   "id": "337b97b4",
   "metadata": {},
   "outputs": [
    {
     "data": {
      "text/html": [
       "<div>\n",
       "<style scoped>\n",
       "    .dataframe tbody tr th:only-of-type {\n",
       "        vertical-align: middle;\n",
       "    }\n",
       "\n",
       "    .dataframe tbody tr th {\n",
       "        vertical-align: top;\n",
       "    }\n",
       "\n",
       "    .dataframe thead th {\n",
       "        text-align: right;\n",
       "    }\n",
       "</style>\n",
       "<table border=\"1\" class=\"dataframe\">\n",
       "  <thead>\n",
       "    <tr style=\"text-align: right;\">\n",
       "      <th></th>\n",
       "      <th>Temperature</th>\n",
       "      <th>CPI</th>\n",
       "      <th>Unemployment_Rate</th>\n",
       "      <th>Holiday</th>\n",
       "      <th>Total_Sales</th>\n",
       "      <th>Type</th>\n",
       "      <th>Size</th>\n",
       "      <th>weeknumber</th>\n",
       "      <th>Total_MarkDown</th>\n",
       "    </tr>\n",
       "  </thead>\n",
       "  <tbody>\n",
       "    <tr>\n",
       "      <th>0</th>\n",
       "      <td>42.31</td>\n",
       "      <td>211.096358</td>\n",
       "      <td>8.106</td>\n",
       "      <td>No</td>\n",
       "      <td>1643690.90</td>\n",
       "      <td>E-Commerce Fulfillment</td>\n",
       "      <td>151315</td>\n",
       "      <td>17</td>\n",
       "      <td>0.0</td>\n",
       "    </tr>\n",
       "    <tr>\n",
       "      <th>1</th>\n",
       "      <td>38.51</td>\n",
       "      <td>211.242170</td>\n",
       "      <td>8.106</td>\n",
       "      <td>Yes</td>\n",
       "      <td>1641957.44</td>\n",
       "      <td>E-Commerce Fulfillment</td>\n",
       "      <td>151315</td>\n",
       "      <td>48</td>\n",
       "      <td>0.0</td>\n",
       "    </tr>\n",
       "    <tr>\n",
       "      <th>2</th>\n",
       "      <td>39.93</td>\n",
       "      <td>211.289143</td>\n",
       "      <td>8.106</td>\n",
       "      <td>No</td>\n",
       "      <td>1611968.17</td>\n",
       "      <td>E-Commerce Fulfillment</td>\n",
       "      <td>151315</td>\n",
       "      <td>7</td>\n",
       "      <td>0.0</td>\n",
       "    </tr>\n",
       "    <tr>\n",
       "      <th>3</th>\n",
       "      <td>46.63</td>\n",
       "      <td>211.319643</td>\n",
       "      <td>8.106</td>\n",
       "      <td>No</td>\n",
       "      <td>1409727.59</td>\n",
       "      <td>E-Commerce Fulfillment</td>\n",
       "      <td>151315</td>\n",
       "      <td>8</td>\n",
       "      <td>0.0</td>\n",
       "    </tr>\n",
       "    <tr>\n",
       "      <th>4</th>\n",
       "      <td>46.50</td>\n",
       "      <td>211.350143</td>\n",
       "      <td>8.106</td>\n",
       "      <td>No</td>\n",
       "      <td>1554806.68</td>\n",
       "      <td>E-Commerce Fulfillment</td>\n",
       "      <td>151315</td>\n",
       "      <td>18</td>\n",
       "      <td>0.0</td>\n",
       "    </tr>\n",
       "  </tbody>\n",
       "</table>\n",
       "</div>"
      ],
      "text/plain": [
       "   Temperature         CPI  Unemployment_Rate Holiday  Total_Sales  \\\n",
       "0        42.31  211.096358              8.106      No   1643690.90   \n",
       "1        38.51  211.242170              8.106     Yes   1641957.44   \n",
       "2        39.93  211.289143              8.106      No   1611968.17   \n",
       "3        46.63  211.319643              8.106      No   1409727.59   \n",
       "4        46.50  211.350143              8.106      No   1554806.68   \n",
       "\n",
       "                     Type    Size  weeknumber  Total_MarkDown  \n",
       "0  E-Commerce Fulfillment  151315          17             0.0  \n",
       "1  E-Commerce Fulfillment  151315          48             0.0  \n",
       "2  E-Commerce Fulfillment  151315           7             0.0  \n",
       "3  E-Commerce Fulfillment  151315           8             0.0  \n",
       "4  E-Commerce Fulfillment  151315          18             0.0  "
      ]
     },
     "execution_count": 44,
     "metadata": {},
     "output_type": "execute_result"
    }
   ],
   "source": [
    "df.head()"
   ]
  },
  {
   "cell_type": "code",
   "execution_count": 45,
   "id": "70bbf01d",
   "metadata": {},
   "outputs": [],
   "source": [
    "# Label encoding \n",
    "df['Holiday'].replace({\"Yes\":1,\"No\":0},inplace=True)\n",
    "df['Total_MarkDown'].replace({\"High\" : 1, \"Low\" : 0}, inplace = True)"
   ]
  },
  {
   "cell_type": "code",
   "execution_count": 46,
   "id": "3abe0e0c",
   "metadata": {},
   "outputs": [],
   "source": [
    "#One hot encoding\n",
    "Types= pd.get_dummies(df['Type'],drop_first=True)"
   ]
  },
  {
   "cell_type": "code",
   "execution_count": 47,
   "id": "1576eab0",
   "metadata": {},
   "outputs": [
    {
     "data": {
      "text/html": [
       "<div>\n",
       "<style scoped>\n",
       "    .dataframe tbody tr th:only-of-type {\n",
       "        vertical-align: middle;\n",
       "    }\n",
       "\n",
       "    .dataframe tbody tr th {\n",
       "        vertical-align: top;\n",
       "    }\n",
       "\n",
       "    .dataframe thead th {\n",
       "        text-align: right;\n",
       "    }\n",
       "</style>\n",
       "<table border=\"1\" class=\"dataframe\">\n",
       "  <thead>\n",
       "    <tr style=\"text-align: right;\">\n",
       "      <th></th>\n",
       "      <th>Temperature</th>\n",
       "      <th>CPI</th>\n",
       "      <th>Unemployment_Rate</th>\n",
       "      <th>Holiday</th>\n",
       "      <th>Total_Sales</th>\n",
       "      <th>Type</th>\n",
       "      <th>Size</th>\n",
       "      <th>weeknumber</th>\n",
       "      <th>Total_MarkDown</th>\n",
       "      <th>Food</th>\n",
       "      <th>Regional</th>\n",
       "    </tr>\n",
       "  </thead>\n",
       "  <tbody>\n",
       "    <tr>\n",
       "      <th>0</th>\n",
       "      <td>42.31</td>\n",
       "      <td>211.096358</td>\n",
       "      <td>8.106</td>\n",
       "      <td>0</td>\n",
       "      <td>1643690.90</td>\n",
       "      <td>E-Commerce Fulfillment</td>\n",
       "      <td>151315</td>\n",
       "      <td>17</td>\n",
       "      <td>0.0</td>\n",
       "      <td>0</td>\n",
       "      <td>0</td>\n",
       "    </tr>\n",
       "    <tr>\n",
       "      <th>1</th>\n",
       "      <td>38.51</td>\n",
       "      <td>211.242170</td>\n",
       "      <td>8.106</td>\n",
       "      <td>1</td>\n",
       "      <td>1641957.44</td>\n",
       "      <td>E-Commerce Fulfillment</td>\n",
       "      <td>151315</td>\n",
       "      <td>48</td>\n",
       "      <td>0.0</td>\n",
       "      <td>0</td>\n",
       "      <td>0</td>\n",
       "    </tr>\n",
       "    <tr>\n",
       "      <th>2</th>\n",
       "      <td>39.93</td>\n",
       "      <td>211.289143</td>\n",
       "      <td>8.106</td>\n",
       "      <td>0</td>\n",
       "      <td>1611968.17</td>\n",
       "      <td>E-Commerce Fulfillment</td>\n",
       "      <td>151315</td>\n",
       "      <td>7</td>\n",
       "      <td>0.0</td>\n",
       "      <td>0</td>\n",
       "      <td>0</td>\n",
       "    </tr>\n",
       "    <tr>\n",
       "      <th>3</th>\n",
       "      <td>46.63</td>\n",
       "      <td>211.319643</td>\n",
       "      <td>8.106</td>\n",
       "      <td>0</td>\n",
       "      <td>1409727.59</td>\n",
       "      <td>E-Commerce Fulfillment</td>\n",
       "      <td>151315</td>\n",
       "      <td>8</td>\n",
       "      <td>0.0</td>\n",
       "      <td>0</td>\n",
       "      <td>0</td>\n",
       "    </tr>\n",
       "    <tr>\n",
       "      <th>4</th>\n",
       "      <td>46.50</td>\n",
       "      <td>211.350143</td>\n",
       "      <td>8.106</td>\n",
       "      <td>0</td>\n",
       "      <td>1554806.68</td>\n",
       "      <td>E-Commerce Fulfillment</td>\n",
       "      <td>151315</td>\n",
       "      <td>18</td>\n",
       "      <td>0.0</td>\n",
       "      <td>0</td>\n",
       "      <td>0</td>\n",
       "    </tr>\n",
       "  </tbody>\n",
       "</table>\n",
       "</div>"
      ],
      "text/plain": [
       "   Temperature         CPI  Unemployment_Rate  Holiday  Total_Sales  \\\n",
       "0        42.31  211.096358              8.106        0   1643690.90   \n",
       "1        38.51  211.242170              8.106        1   1641957.44   \n",
       "2        39.93  211.289143              8.106        0   1611968.17   \n",
       "3        46.63  211.319643              8.106        0   1409727.59   \n",
       "4        46.50  211.350143              8.106        0   1554806.68   \n",
       "\n",
       "                     Type    Size  weeknumber  Total_MarkDown  Food  Regional  \n",
       "0  E-Commerce Fulfillment  151315          17             0.0     0         0  \n",
       "1  E-Commerce Fulfillment  151315          48             0.0     0         0  \n",
       "2  E-Commerce Fulfillment  151315           7             0.0     0         0  \n",
       "3  E-Commerce Fulfillment  151315           8             0.0     0         0  \n",
       "4  E-Commerce Fulfillment  151315          18             0.0     0         0  "
      ]
     },
     "execution_count": 47,
     "metadata": {},
     "output_type": "execute_result"
    }
   ],
   "source": [
    "# Now we will concate the type \n",
    "df= pd.concat([df,Types],axis=1)\n",
    "df.head()"
   ]
  },
  {
   "cell_type": "code",
   "execution_count": 48,
   "id": "7c98a286",
   "metadata": {},
   "outputs": [
    {
     "data": {
      "text/html": [
       "<div>\n",
       "<style scoped>\n",
       "    .dataframe tbody tr th:only-of-type {\n",
       "        vertical-align: middle;\n",
       "    }\n",
       "\n",
       "    .dataframe tbody tr th {\n",
       "        vertical-align: top;\n",
       "    }\n",
       "\n",
       "    .dataframe thead th {\n",
       "        text-align: right;\n",
       "    }\n",
       "</style>\n",
       "<table border=\"1\" class=\"dataframe\">\n",
       "  <thead>\n",
       "    <tr style=\"text-align: right;\">\n",
       "      <th></th>\n",
       "      <th>Temperature</th>\n",
       "      <th>CPI</th>\n",
       "      <th>Unemployment_Rate</th>\n",
       "      <th>Holiday</th>\n",
       "      <th>Total_Sales</th>\n",
       "      <th>Size</th>\n",
       "      <th>weeknumber</th>\n",
       "      <th>Total_MarkDown</th>\n",
       "      <th>Food</th>\n",
       "      <th>Regional</th>\n",
       "    </tr>\n",
       "  </thead>\n",
       "  <tbody>\n",
       "    <tr>\n",
       "      <th>0</th>\n",
       "      <td>42.31</td>\n",
       "      <td>211.096358</td>\n",
       "      <td>8.106</td>\n",
       "      <td>0</td>\n",
       "      <td>1643690.90</td>\n",
       "      <td>151315</td>\n",
       "      <td>17</td>\n",
       "      <td>0.0</td>\n",
       "      <td>0</td>\n",
       "      <td>0</td>\n",
       "    </tr>\n",
       "    <tr>\n",
       "      <th>1</th>\n",
       "      <td>38.51</td>\n",
       "      <td>211.242170</td>\n",
       "      <td>8.106</td>\n",
       "      <td>1</td>\n",
       "      <td>1641957.44</td>\n",
       "      <td>151315</td>\n",
       "      <td>48</td>\n",
       "      <td>0.0</td>\n",
       "      <td>0</td>\n",
       "      <td>0</td>\n",
       "    </tr>\n",
       "    <tr>\n",
       "      <th>2</th>\n",
       "      <td>39.93</td>\n",
       "      <td>211.289143</td>\n",
       "      <td>8.106</td>\n",
       "      <td>0</td>\n",
       "      <td>1611968.17</td>\n",
       "      <td>151315</td>\n",
       "      <td>7</td>\n",
       "      <td>0.0</td>\n",
       "      <td>0</td>\n",
       "      <td>0</td>\n",
       "    </tr>\n",
       "    <tr>\n",
       "      <th>3</th>\n",
       "      <td>46.63</td>\n",
       "      <td>211.319643</td>\n",
       "      <td>8.106</td>\n",
       "      <td>0</td>\n",
       "      <td>1409727.59</td>\n",
       "      <td>151315</td>\n",
       "      <td>8</td>\n",
       "      <td>0.0</td>\n",
       "      <td>0</td>\n",
       "      <td>0</td>\n",
       "    </tr>\n",
       "    <tr>\n",
       "      <th>4</th>\n",
       "      <td>46.50</td>\n",
       "      <td>211.350143</td>\n",
       "      <td>8.106</td>\n",
       "      <td>0</td>\n",
       "      <td>1554806.68</td>\n",
       "      <td>151315</td>\n",
       "      <td>18</td>\n",
       "      <td>0.0</td>\n",
       "      <td>0</td>\n",
       "      <td>0</td>\n",
       "    </tr>\n",
       "  </tbody>\n",
       "</table>\n",
       "</div>"
      ],
      "text/plain": [
       "   Temperature         CPI  Unemployment_Rate  Holiday  Total_Sales    Size  \\\n",
       "0        42.31  211.096358              8.106        0   1643690.90  151315   \n",
       "1        38.51  211.242170              8.106        1   1641957.44  151315   \n",
       "2        39.93  211.289143              8.106        0   1611968.17  151315   \n",
       "3        46.63  211.319643              8.106        0   1409727.59  151315   \n",
       "4        46.50  211.350143              8.106        0   1554806.68  151315   \n",
       "\n",
       "   weeknumber  Total_MarkDown  Food  Regional  \n",
       "0          17             0.0     0         0  \n",
       "1          48             0.0     0         0  \n",
       "2           7             0.0     0         0  \n",
       "3           8             0.0     0         0  \n",
       "4          18             0.0     0         0  "
      ]
     },
     "execution_count": 48,
     "metadata": {},
     "output_type": "execute_result"
    }
   ],
   "source": [
    "# Drop the column 'Type'\n",
    "df.drop('Type',inplace=True,axis=1)\n",
    "df.head()"
   ]
  },
  {
   "cell_type": "code",
   "execution_count": 49,
   "id": "157d943b",
   "metadata": {},
   "outputs": [
    {
     "data": {
      "text/plain": [
       "Index(['Temperature', 'CPI', 'Unemployment_Rate', 'Holiday', 'Total_Sales',\n",
       "       'Size', 'weeknumber', 'Total_MarkDown', 'Food', 'Regional'],\n",
       "      dtype='object')"
      ]
     },
     "execution_count": 49,
     "metadata": {},
     "output_type": "execute_result"
    }
   ],
   "source": [
    "df.columns"
   ]
  },
  {
   "cell_type": "code",
   "execution_count": 50,
   "id": "29006530",
   "metadata": {},
   "outputs": [
    {
     "name": "stderr",
     "output_type": "stream",
     "text": [
      "C:\\Users\\Hp\\anaconda3\\lib\\site-packages\\seaborn\\distributions.py:2619: FutureWarning: `distplot` is a deprecated function and will be removed in a future version. Please adapt your code to use either `displot` (a figure-level function with similar flexibility) or `histplot` (an axes-level function for histograms).\n",
      "  warnings.warn(msg, FutureWarning)\n"
     ]
    },
    {
     "data": {
      "text/plain": [
       "Text(0.5, 1.0, 'The Total sales distributions')"
      ]
     },
     "execution_count": 50,
     "metadata": {},
     "output_type": "execute_result"
    },
    {
     "data": {
      "image/png": "[encoded data removed]",
      "text/plain": [
       "<Figure size 720x432 with 1 Axes>"
      ]
     },
     "metadata": {
      "needs_background": "light"
     },
     "output_type": "display_data"
    }
   ],
   "source": [
    "## Univariate and Bivariate Analysis\n",
    "plt.figure(figsize=(10,6))\n",
    "sns.set_style(\"whitegrid\")\n",
    "sns.distplot(df['Total_Sales'])\n",
    "plt.xlabel('The Total sales')\n",
    "plt.ylabel('count')\n",
    "plt.title('The Total sales distributions')"
   ]
  },
  {
   "cell_type": "code",
   "execution_count": 51,
   "id": "8f9da5cd",
   "metadata": {},
   "outputs": [
    {
     "name": "stderr",
     "output_type": "stream",
     "text": [
      "C:\\Users\\Hp\\anaconda3\\lib\\site-packages\\seaborn\\distributions.py:2619: FutureWarning: `distplot` is a deprecated function and will be removed in a future version. Please adapt your code to use either `displot` (a figure-level function with similar flexibility) or `histplot` (an axes-level function for histograms).\n",
      "  warnings.warn(msg, FutureWarning)\n"
     ]
    },
    {
     "data": {
      "text/plain": [
       "Text(0.5, 1.0, 'The Distribution of Temperature')"
      ]
     },
     "execution_count": 51,
     "metadata": {},
     "output_type": "execute_result"
    },
    {
     "data": {
      "image/png": "[encoded data removed]",
      "text/plain": [
       "<Figure size 720x432 with 1 Axes>"
      ]
     },
     "metadata": {},
     "output_type": "display_data"
    }
   ],
   "source": [
    "plt.figure(figsize=(10,6))\n",
    "sns.set_style(\"whitegrid\")\n",
    "sns.distplot(df['Temperature'])\n",
    "plt.xlabel('Temperature')\n",
    "plt.ylabel('count')\n",
    "plt.title('The Distribution of Temperature')"
   ]
  },
  {
   "cell_type": "code",
   "execution_count": 52,
   "id": "42bddcf0",
   "metadata": {},
   "outputs": [
    {
     "name": "stderr",
     "output_type": "stream",
     "text": [
      "C:\\Users\\Hp\\anaconda3\\lib\\site-packages\\seaborn\\distributions.py:2619: FutureWarning: `distplot` is a deprecated function and will be removed in a future version. Please adapt your code to use either `displot` (a figure-level function with similar flexibility) or `histplot` (an axes-level function for histograms).\n",
      "  warnings.warn(msg, FutureWarning)\n"
     ]
    },
    {
     "data": {
      "text/plain": [
       "Text(0.5, 1.0, 'The Distribution of CPI')"
      ]
     },
     "execution_count": 52,
     "metadata": {},
     "output_type": "execute_result"
    },
    {
     "data": {
      "image/png": "[encoded data removed]",
      "text/plain": [
       "<Figure size 720x432 with 1 Axes>"
      ]
     },
     "metadata": {},
     "output_type": "display_data"
    }
   ],
   "source": [
    "plt.figure(figsize=(10,6))\n",
    "sns.set_style(\"whitegrid\")\n",
    "sns.distplot(df['CPI'])\n",
    "plt.xlabel('CPI')\n",
    "plt.ylabel('count')\n",
    "plt.title('The Distribution of CPI')"
   ]
  },
  {
   "cell_type": "code",
   "execution_count": 53,
   "id": "81f4122e",
   "metadata": {},
   "outputs": [
    {
     "name": "stderr",
     "output_type": "stream",
     "text": [
      "C:\\Users\\Hp\\anaconda3\\lib\\site-packages\\seaborn\\_decorators.py:36: FutureWarning: Pass the following variable as a keyword arg: x. From version 0.12, the only valid positional argument will be `data`, and passing other arguments without an explicit keyword will result in an error or misinterpretation.\n",
      "  warnings.warn(\n"
     ]
    },
    {
     "data": {
      "text/plain": [
       "Text(0.5, 1.0, 'Number of Holidays')"
      ]
     },
     "execution_count": 53,
     "metadata": {},
     "output_type": "execute_result"
    },
    {
     "data": {
      "image/png": "[encoded data removed]",
      "text/plain": [
       "<Figure size 432x432 with 1 Axes>"
      ]
     },
     "metadata": {},
     "output_type": "display_data"
    }
   ],
   "source": [
    "plt.figure(figsize=(6,6))\n",
    "sns.countplot(df['Holiday'])\n",
    "plt.xlabel('Holiday')\n",
    "plt.ylabel('count')\n",
    "plt.title('Number of Holidays')"
   ]
  },
  {
   "cell_type": "code",
   "execution_count": 54,
   "id": "94214ae9",
   "metadata": {},
   "outputs": [
    {
     "name": "stderr",
     "output_type": "stream",
     "text": [
      "C:\\Users\\Hp\\anaconda3\\lib\\site-packages\\seaborn\\_decorators.py:36: FutureWarning: Pass the following variable as a keyword arg: x. From version 0.12, the only valid positional argument will be `data`, and passing other arguments without an explicit keyword will result in an error or misinterpretation.\n",
      "  warnings.warn(\n"
     ]
    },
    {
     "data": {
      "text/plain": [
       "<AxesSubplot:xlabel='weeknumber', ylabel='count'>"
      ]
     },
     "execution_count": 54,
     "metadata": {},
     "output_type": "execute_result"
    },
    {
     "data": {
      "image/png": "[encoded data removed]",
      "text/plain": [
       "<Figure size 1080x432 with 1 Axes>"
      ]
     },
     "metadata": {},
     "output_type": "display_data"
    }
   ],
   "source": [
    "plt.figure(figsize=(15,6))\n",
    "plt.xticks(rotation=90)\n",
    "sns.countplot(df.weeknumber)"
   ]
  },
  {
   "cell_type": "code",
   "execution_count": 55,
   "id": "4fc39ae7",
   "metadata": {},
   "outputs": [
    {
     "data": {
      "text/plain": [
       "Text(0.5, 1.0, 'Number of Holidays')"
      ]
     },
     "execution_count": 55,
     "metadata": {},
     "output_type": "execute_result"
    },
    {
     "data": {
      "image/png": "[encoded data removed]",
      "text/plain": [
       "<Figure size 576x576 with 1 Axes>"
      ]
     },
     "metadata": {},
     "output_type": "display_data"
    }
   ],
   "source": [
    "## BIVARIARE ANALYSIS\n",
    "\n",
    "# Holidays and sales \n",
    "plt.figure(figsize=(8,8))\n",
    "sns.boxplot(x='Holiday',y='Total_Sales',data=df)\n",
    "plt.xlabel('Holiday')\n",
    "plt.ylabel('count')\n",
    "plt.title('Number of Holidays')"
   ]
  },
  {
   "cell_type": "code",
   "execution_count": 57,
   "id": "e6ebbbab",
   "metadata": {},
   "outputs": [
    {
     "data": {
      "image/png": "[encoded data removed]",
      "text/plain": [
       "<Figure size 1080x864 with 4 Axes>"
      ]
     },
     "metadata": {},
     "output_type": "display_data"
    }
   ],
   "source": [
    "#  scatter plot for continuous variables \n",
    "plt.figure(figsize = (15,12))\n",
    "cols = [\"Temperature\", \"CPI\", \"Unemployment_Rate\", \"Size\"]\n",
    "s = 1\n",
    "for r in range(len(cols)):\n",
    "  plt.subplot(2,3,s)\n",
    "  s = s + 1\n",
    "  sns.regplot(x = cols[r], y = 'Total_Sales', data = df, fit_reg=True)\n",
    "  plt.title(\"Total_Sales VS \" + cols[r], fontsize = 10)"
   ]
  },
  {
   "cell_type": "code",
   "execution_count": 58,
   "id": "2a52f2e1",
   "metadata": {},
   "outputs": [],
   "source": [
    "# Training data\n",
    "train_df= df.copy()"
   ]
  },
  {
   "cell_type": "code",
   "execution_count": 59,
   "id": "a729bdde",
   "metadata": {},
   "outputs": [
    {
     "data": {
      "text/html": [
       "<div>\n",
       "<style scoped>\n",
       "    .dataframe tbody tr th:only-of-type {\n",
       "        vertical-align: middle;\n",
       "    }\n",
       "\n",
       "    .dataframe tbody tr th {\n",
       "        vertical-align: top;\n",
       "    }\n",
       "\n",
       "    .dataframe thead th {\n",
       "        text-align: right;\n",
       "    }\n",
       "</style>\n",
       "<table border=\"1\" class=\"dataframe\">\n",
       "  <thead>\n",
       "    <tr style=\"text-align: right;\">\n",
       "      <th></th>\n",
       "      <th>Temperature</th>\n",
       "      <th>CPI</th>\n",
       "      <th>Unemployment_Rate</th>\n",
       "      <th>Holiday</th>\n",
       "      <th>Total_Sales</th>\n",
       "      <th>Size</th>\n",
       "      <th>weeknumber</th>\n",
       "      <th>Total_MarkDown</th>\n",
       "      <th>Food</th>\n",
       "      <th>Regional</th>\n",
       "    </tr>\n",
       "  </thead>\n",
       "  <tbody>\n",
       "    <tr>\n",
       "      <th>0</th>\n",
       "      <td>42.31</td>\n",
       "      <td>211.096358</td>\n",
       "      <td>8.106</td>\n",
       "      <td>0</td>\n",
       "      <td>1643690.90</td>\n",
       "      <td>151315</td>\n",
       "      <td>17</td>\n",
       "      <td>0.0</td>\n",
       "      <td>0</td>\n",
       "      <td>0</td>\n",
       "    </tr>\n",
       "    <tr>\n",
       "      <th>1</th>\n",
       "      <td>38.51</td>\n",
       "      <td>211.242170</td>\n",
       "      <td>8.106</td>\n",
       "      <td>1</td>\n",
       "      <td>1641957.44</td>\n",
       "      <td>151315</td>\n",
       "      <td>48</td>\n",
       "      <td>0.0</td>\n",
       "      <td>0</td>\n",
       "      <td>0</td>\n",
       "    </tr>\n",
       "    <tr>\n",
       "      <th>2</th>\n",
       "      <td>39.93</td>\n",
       "      <td>211.289143</td>\n",
       "      <td>8.106</td>\n",
       "      <td>0</td>\n",
       "      <td>1611968.17</td>\n",
       "      <td>151315</td>\n",
       "      <td>7</td>\n",
       "      <td>0.0</td>\n",
       "      <td>0</td>\n",
       "      <td>0</td>\n",
       "    </tr>\n",
       "    <tr>\n",
       "      <th>3</th>\n",
       "      <td>46.63</td>\n",
       "      <td>211.319643</td>\n",
       "      <td>8.106</td>\n",
       "      <td>0</td>\n",
       "      <td>1409727.59</td>\n",
       "      <td>151315</td>\n",
       "      <td>8</td>\n",
       "      <td>0.0</td>\n",
       "      <td>0</td>\n",
       "      <td>0</td>\n",
       "    </tr>\n",
       "    <tr>\n",
       "      <th>4</th>\n",
       "      <td>46.50</td>\n",
       "      <td>211.350143</td>\n",
       "      <td>8.106</td>\n",
       "      <td>0</td>\n",
       "      <td>1554806.68</td>\n",
       "      <td>151315</td>\n",
       "      <td>18</td>\n",
       "      <td>0.0</td>\n",
       "      <td>0</td>\n",
       "      <td>0</td>\n",
       "    </tr>\n",
       "  </tbody>\n",
       "</table>\n",
       "</div>"
      ],
      "text/plain": [
       "   Temperature         CPI  Unemployment_Rate  Holiday  Total_Sales    Size  \\\n",
       "0        42.31  211.096358              8.106        0   1643690.90  151315   \n",
       "1        38.51  211.242170              8.106        1   1641957.44  151315   \n",
       "2        39.93  211.289143              8.106        0   1611968.17  151315   \n",
       "3        46.63  211.319643              8.106        0   1409727.59  151315   \n",
       "4        46.50  211.350143              8.106        0   1554806.68  151315   \n",
       "\n",
       "   weeknumber  Total_MarkDown  Food  Regional  \n",
       "0          17             0.0     0         0  \n",
       "1          48             0.0     0         0  \n",
       "2           7             0.0     0         0  \n",
       "3           8             0.0     0         0  \n",
       "4          18             0.0     0         0  "
      ]
     },
     "execution_count": 59,
     "metadata": {},
     "output_type": "execute_result"
    }
   ],
   "source": [
    "# Dropping nan values from training data\n",
    "train_df.dropna(inplace=True)\n",
    "train_df.head()"
   ]
  },
  {
   "cell_type": "code",
   "execution_count": 60,
   "id": "f5d073da",
   "metadata": {},
   "outputs": [],
   "source": [
    "# Creating Independet and dependet variables\n",
    "X=train_df.drop('Total_Sales',axis=1)\n",
    "y= train_df['Total_Sales']"
   ]
  },
  {
   "cell_type": "code",
   "execution_count": 62,
   "id": "cefeddea",
   "metadata": {},
   "outputs": [],
   "source": [
    "## FITTING THE MODEL\n",
    "from sklearn.model_selection import train_test_split\n",
    "X_train,X_test,y_train,y_test=train_test_split(X,y,test_size=0.20,random_state=0)"
   ]
  },
  {
   "cell_type": "code",
   "execution_count": 63,
   "id": "d9da6976",
   "metadata": {},
   "outputs": [],
   "source": [
    "from sklearn.preprocessing import MinMaxScaler\n",
    "scaler=MinMaxScaler()\n",
    "X_train_scaled=scaler.fit_transform(X_train) \n",
    "X_test_scaled=scaler.transform(X_test)"
   ]
  },
  {
   "cell_type": "code",
   "execution_count": 64,
   "id": "60f04b50",
   "metadata": {},
   "outputs": [
    {
     "data": {
      "text/plain": [
       "LinearRegression()"
      ]
     },
     "execution_count": 64,
     "metadata": {},
     "output_type": "execute_result"
    }
   ],
   "source": [
    "## Linear regression Model\n",
    "from sklearn.linear_model import LinearRegression\n",
    "reg= LinearRegression()\n",
    "reg.fit(X_train_scaled,y_train)"
   ]
  },
  {
   "cell_type": "code",
   "execution_count": 65,
   "id": "0383a12d",
   "metadata": {},
   "outputs": [],
   "source": [
    "y_pred=reg.predict(X_test_scaled)"
   ]
  },
  {
   "cell_type": "code",
   "execution_count": 66,
   "id": "2f125c79",
   "metadata": {},
   "outputs": [
    {
     "name": "stdout",
     "output_type": "stream",
     "text": [
      "0.6860695057044646\n",
      "0.6776093002599903\n"
     ]
    }
   ],
   "source": [
    "print(reg.score(X_test_scaled,y_test))\n",
    "print(reg.score(X_train_scaled,y_train))"
   ]
  },
  {
   "cell_type": "code",
   "execution_count": 67,
   "id": "5a039601",
   "metadata": {},
   "outputs": [
    {
     "name": "stdout",
     "output_type": "stream",
     "text": [
      "Mean Absolute Error: 235324.76745388142\n",
      "Mean Squared Error: 99221637065.18541\n",
      "Root Mean Squared Error: 314994.66196300124\n",
      "Mean Absolute percentage Error: 0.25146637058977894\n"
     ]
    }
   ],
   "source": [
    "from sklearn import metrics\n",
    "\n",
    "print('Mean Absolute Error:', metrics.mean_absolute_error(y_test, y_pred))\n",
    "print('Mean Squared Error:', metrics.mean_squared_error(y_test, y_pred))\n",
    "print('Root Mean Squared Error:', np.sqrt(metrics.mean_squared_error(y_test, y_pred)))\n",
    "print('Mean Absolute percentage Error:',metrics.mean_absolute_percentage_error(y_test, y_pred))"
   ]
  },
  {
   "cell_type": "code",
   "execution_count": 68,
   "id": "b4c6958f",
   "metadata": {},
   "outputs": [
    {
     "data": {
      "text/plain": [
       "RandomForestRegressor()"
      ]
     },
     "execution_count": 68,
     "metadata": {},
     "output_type": "execute_result"
    }
   ],
   "source": [
    "## Random Forest\n",
    "from sklearn.ensemble import RandomForestRegressor\n",
    "rf_reg= RandomForestRegressor()\n",
    "rf_reg.fit(X_train,y_train)"
   ]
  },
  {
   "cell_type": "code",
   "execution_count": 69,
   "id": "aee05f61",
   "metadata": {},
   "outputs": [],
   "source": [
    "y_pred= rf_reg.predict(X_test)"
   ]
  },
  {
   "cell_type": "code",
   "execution_count": 70,
   "id": "1c785359",
   "metadata": {},
   "outputs": [
    {
     "name": "stdout",
     "output_type": "stream",
     "text": [
      "0.9550032673035593\n",
      "0.9938048852326972\n"
     ]
    }
   ],
   "source": [
    "print(rf_reg.score(X_test,y_test))\n",
    "print(rf_reg.score(X_train,y_train))"
   ]
  },
  {
   "cell_type": "code",
   "execution_count": 71,
   "id": "69c62a2a",
   "metadata": {},
   "outputs": [
    {
     "name": "stdout",
     "output_type": "stream",
     "text": [
      "Mean Absolute Error: 66745.70414926184\n",
      "Mean Squared Error: 14221776991.573057\n",
      "Root Mean Squared Error: 119255.09209913452\n",
      "Mean Absolute percentage Error: 0.060688981574776875\n"
     ]
    }
   ],
   "source": [
    "print('Mean Absolute Error:', metrics.mean_absolute_error(y_test, y_pred))\n",
    "print('Mean Squared Error:', metrics.mean_squared_error(y_test, y_pred))\n",
    "print('Root Mean Squared Error:', np.sqrt(metrics.mean_squared_error(y_test, y_pred)))\n",
    "print('Mean Absolute percentage Error:',metrics.mean_absolute_percentage_error(y_test, y_pred))"
   ]
  },
  {
   "cell_type": "code",
   "execution_count": 72,
   "id": "fa9edf2b",
   "metadata": {},
   "outputs": [
    {
     "name": "stderr",
     "output_type": "stream",
     "text": [
      "C:\\Users\\Hp\\anaconda3\\lib\\site-packages\\statsmodels\\tsa\\tsatools.py:142: FutureWarning: In a future version of pandas all arguments of concat except for the argument 'objs' will be keyword-only\n",
      "  x = pd.concat(x[::order], 1)\n"
     ]
    },
    {
     "data": {
      "text/html": [
       "<table class=\"simpletable\">\n",
       "<caption>OLS Regression Results</caption>\n",
       "<tr>\n",
       "  <th>Dep. Variable:</th>       <td>Total_Sales</td>   <th>  R-squared:         </th> <td>   0.678</td> \n",
       "</tr>\n",
       "<tr>\n",
       "  <th>Model:</th>                   <td>OLS</td>       <th>  Adj. R-squared:    </th> <td>   0.677</td> \n",
       "</tr>\n",
       "<tr>\n",
       "  <th>Method:</th>             <td>Least Squares</td>  <th>  F-statistic:       </th> <td>   1200.</td> \n",
       "</tr>\n",
       "<tr>\n",
       "  <th>Date:</th>             <td>Thu, 11 Nov 2021</td> <th>  Prob (F-statistic):</th>  <td>  0.00</td>  \n",
       "</tr>\n",
       "<tr>\n",
       "  <th>Time:</th>                 <td>15:57:20</td>     <th>  Log-Likelihood:    </th> <td> -72573.</td> \n",
       "</tr>\n",
       "<tr>\n",
       "  <th>No. Observations:</th>      <td>  5148</td>      <th>  AIC:               </th> <td>1.452e+05</td>\n",
       "</tr>\n",
       "<tr>\n",
       "  <th>Df Residuals:</th>          <td>  5138</td>      <th>  BIC:               </th> <td>1.452e+05</td>\n",
       "</tr>\n",
       "<tr>\n",
       "  <th>Df Model:</th>              <td>     9</td>      <th>                     </th>     <td> </td>    \n",
       "</tr>\n",
       "<tr>\n",
       "  <th>Covariance Type:</th>      <td>nonrobust</td>    <th>                     </th>     <td> </td>    \n",
       "</tr>\n",
       "</table>\n",
       "<table class=\"simpletable\">\n",
       "<tr>\n",
       "          <td></td>             <th>coef</th>     <th>std err</th>      <th>t</th>      <th>P>|t|</th>  <th>[0.025</th>    <th>0.975]</th>  \n",
       "</tr>\n",
       "<tr>\n",
       "  <th>const</th>             <td> 2.473e+05</td> <td>  4.2e+04</td> <td>    5.891</td> <td> 0.000</td> <td> 1.65e+05</td> <td>  3.3e+05</td>\n",
       "</tr>\n",
       "<tr>\n",
       "  <th>Temperature</th>       <td> 1092.5582</td> <td>  258.991</td> <td>    4.219</td> <td> 0.000</td> <td>  584.825</td> <td> 1600.292</td>\n",
       "</tr>\n",
       "<tr>\n",
       "  <th>CPI</th>               <td>-1309.6924</td> <td>  123.053</td> <td>  -10.643</td> <td> 0.000</td> <td>-1550.930</td> <td>-1068.455</td>\n",
       "</tr>\n",
       "<tr>\n",
       "  <th>Unemployment_Rate</th> <td> -2.09e+04</td> <td> 2604.358</td> <td>   -8.026</td> <td> 0.000</td> <td> -2.6e+04</td> <td>-1.58e+04</td>\n",
       "</tr>\n",
       "<tr>\n",
       "  <th>Holiday</th>           <td> 4.105e+04</td> <td> 1.91e+04</td> <td>    2.145</td> <td> 0.032</td> <td> 3530.199</td> <td> 7.86e+04</td>\n",
       "</tr>\n",
       "<tr>\n",
       "  <th>Size</th>              <td>    7.7680</td> <td>    0.117</td> <td>   66.198</td> <td> 0.000</td> <td>    7.538</td> <td>    7.998</td>\n",
       "</tr>\n",
       "<tr>\n",
       "  <th>weeknumber</th>        <td> 2239.9085</td> <td>  329.836</td> <td>    6.791</td> <td> 0.000</td> <td> 1593.290</td> <td> 2886.527</td>\n",
       "</tr>\n",
       "<tr>\n",
       "  <th>Total_MarkDown</th>    <td>    2.2396</td> <td>    0.330</td> <td>    6.780</td> <td> 0.000</td> <td>    1.592</td> <td>    2.887</td>\n",
       "</tr>\n",
       "<tr>\n",
       "  <th>Food</th>              <td> 3.805e+04</td> <td> 1.33e+04</td> <td>    2.866</td> <td> 0.004</td> <td>  1.2e+04</td> <td> 6.41e+04</td>\n",
       "</tr>\n",
       "<tr>\n",
       "  <th>Regional</th>          <td> 1.871e+05</td> <td> 2.13e+04</td> <td>    8.793</td> <td> 0.000</td> <td> 1.45e+05</td> <td> 2.29e+05</td>\n",
       "</tr>\n",
       "</table>\n",
       "<table class=\"simpletable\">\n",
       "<tr>\n",
       "  <th>Omnibus:</th>       <td>1363.902</td> <th>  Durbin-Watson:     </th> <td>   1.952</td>\n",
       "</tr>\n",
       "<tr>\n",
       "  <th>Prob(Omnibus):</th>  <td> 0.000</td>  <th>  Jarque-Bera (JB):  </th> <td>5108.064</td>\n",
       "</tr>\n",
       "<tr>\n",
       "  <th>Skew:</th>           <td> 1.280</td>  <th>  Prob(JB):          </th> <td>    0.00</td>\n",
       "</tr>\n",
       "<tr>\n",
       "  <th>Kurtosis:</th>       <td> 7.154</td>  <th>  Cond. No.          </th> <td>1.41e+06</td>\n",
       "</tr>\n",
       "</table><br/><br/>Notes:<br/>[1] Standard Errors assume that the covariance matrix of the errors is correctly specified.<br/>[2] The condition number is large, 1.41e+06. This might indicate that there are<br/>strong multicollinearity or other numerical problems."
      ],
      "text/plain": [
       "<class 'statsmodels.iolib.summary.Summary'>\n",
       "\"\"\"\n",
       "                            OLS Regression Results                            \n",
       "==============================================================================\n",
       "Dep. Variable:            Total_Sales   R-squared:                       0.678\n",
       "Model:                            OLS   Adj. R-squared:                  0.677\n",
       "Method:                 Least Squares   F-statistic:                     1200.\n",
       "Date:                Thu, 11 Nov 2021   Prob (F-statistic):               0.00\n",
       "Time:                        15:57:20   Log-Likelihood:                -72573.\n",
       "No. Observations:                5148   AIC:                         1.452e+05\n",
       "Df Residuals:                    5138   BIC:                         1.452e+05\n",
       "Df Model:                           9                                         \n",
       "Covariance Type:            nonrobust                                         \n",
       "=====================================================================================\n",
       "                        coef    std err          t      P>|t|      [0.025      0.975]\n",
       "-------------------------------------------------------------------------------------\n",
       "const              2.473e+05    4.2e+04      5.891      0.000    1.65e+05     3.3e+05\n",
       "Temperature        1092.5582    258.991      4.219      0.000     584.825    1600.292\n",
       "CPI               -1309.6924    123.053    -10.643      0.000   -1550.930   -1068.455\n",
       "Unemployment_Rate  -2.09e+04   2604.358     -8.026      0.000    -2.6e+04   -1.58e+04\n",
       "Holiday            4.105e+04   1.91e+04      2.145      0.032    3530.199    7.86e+04\n",
       "Size                  7.7680      0.117     66.198      0.000       7.538       7.998\n",
       "weeknumber         2239.9085    329.836      6.791      0.000    1593.290    2886.527\n",
       "Total_MarkDown        2.2396      0.330      6.780      0.000       1.592       2.887\n",
       "Food               3.805e+04   1.33e+04      2.866      0.004     1.2e+04    6.41e+04\n",
       "Regional           1.871e+05   2.13e+04      8.793      0.000    1.45e+05    2.29e+05\n",
       "==============================================================================\n",
       "Omnibus:                     1363.902   Durbin-Watson:                   1.952\n",
       "Prob(Omnibus):                  0.000   Jarque-Bera (JB):             5108.064\n",
       "Skew:                           1.280   Prob(JB):                         0.00\n",
       "Kurtosis:                       7.154   Cond. No.                     1.41e+06\n",
       "==============================================================================\n",
       "\n",
       "Notes:\n",
       "[1] Standard Errors assume that the covariance matrix of the errors is correctly specified.\n",
       "[2] The condition number is large, 1.41e+06. This might indicate that there are\n",
       "strong multicollinearity or other numerical problems.\n",
       "\"\"\""
      ]
     },
     "execution_count": 72,
     "metadata": {},
     "output_type": "execute_result"
    }
   ],
   "source": [
    "## Stat Model\n",
    "x_train = sm.add_constant(X_train)\n",
    "x_test = sm.add_constant(X_test)\n",
    "# training the model and printing the model statistics\n",
    "model_stats = sm.OLS(y_train,x_train).fit()\n",
    "model_stats.summary()"
   ]
  },
  {
   "cell_type": "code",
   "execution_count": 77,
   "id": "d3456326",
   "metadata": {},
   "outputs": [],
   "source": [
    "# Droppig the variable which is not statstically significant \n",
    "x_train_new=X_train.drop('Temperature',axis=1)\n",
    "x_test_new=X_test.drop('Temperature',axis=1)"
   ]
  },
  {
   "cell_type": "code",
   "execution_count": 78,
   "id": "29ccec02",
   "metadata": {},
   "outputs": [
    {
     "data": {
      "text/plain": [
       "LinearRegression()"
      ]
     },
     "execution_count": 78,
     "metadata": {},
     "output_type": "execute_result"
    }
   ],
   "source": [
    "# Again fitting the model on new train data\n",
    "reg.fit(x_train_new,y_train)"
   ]
  },
  {
   "cell_type": "code",
   "execution_count": 79,
   "id": "0253e622",
   "metadata": {},
   "outputs": [
    {
     "name": "stderr",
     "output_type": "stream",
     "text": [
      "C:\\Users\\Hp\\anaconda3\\lib\\site-packages\\statsmodels\\tsa\\tsatools.py:142: FutureWarning: In a future version of pandas all arguments of concat except for the argument 'objs' will be keyword-only\n",
      "  x = pd.concat(x[::order], 1)\n"
     ]
    },
    {
     "data": {
      "text/html": [
       "<table class=\"simpletable\">\n",
       "<caption>OLS Regression Results</caption>\n",
       "<tr>\n",
       "  <th>Dep. Variable:</th>       <td>Total_Sales</td>   <th>  R-squared:         </th> <td>   0.676</td> \n",
       "</tr>\n",
       "<tr>\n",
       "  <th>Model:</th>                   <td>OLS</td>       <th>  Adj. R-squared:    </th> <td>   0.676</td> \n",
       "</tr>\n",
       "<tr>\n",
       "  <th>Method:</th>             <td>Least Squares</td>  <th>  F-statistic:       </th> <td>   1343.</td> \n",
       "</tr>\n",
       "<tr>\n",
       "  <th>Date:</th>             <td>Thu, 11 Nov 2021</td> <th>  Prob (F-statistic):</th>  <td>  0.00</td>  \n",
       "</tr>\n",
       "<tr>\n",
       "  <th>Time:</th>                 <td>16:02:27</td>     <th>  Log-Likelihood:    </th> <td> -72582.</td> \n",
       "</tr>\n",
       "<tr>\n",
       "  <th>No. Observations:</th>      <td>  5148</td>      <th>  AIC:               </th> <td>1.452e+05</td>\n",
       "</tr>\n",
       "<tr>\n",
       "  <th>Df Residuals:</th>          <td>  5139</td>      <th>  BIC:               </th> <td>1.452e+05</td>\n",
       "</tr>\n",
       "<tr>\n",
       "  <th>Df Model:</th>              <td>     8</td>      <th>                     </th>     <td> </td>    \n",
       "</tr>\n",
       "<tr>\n",
       "  <th>Covariance Type:</th>      <td>nonrobust</td>    <th>                     </th>     <td> </td>    \n",
       "</tr>\n",
       "</table>\n",
       "<table class=\"simpletable\">\n",
       "<tr>\n",
       "          <td></td>             <th>coef</th>     <th>std err</th>      <th>t</th>      <th>P>|t|</th>  <th>[0.025</th>    <th>0.975]</th>  \n",
       "</tr>\n",
       "<tr>\n",
       "  <th>const</th>             <td> 2.867e+05</td> <td>  4.1e+04</td> <td>    6.993</td> <td> 0.000</td> <td> 2.06e+05</td> <td> 3.67e+05</td>\n",
       "</tr>\n",
       "<tr>\n",
       "  <th>CPI</th>               <td>-1200.0650</td> <td>  120.474</td> <td>   -9.961</td> <td> 0.000</td> <td>-1436.246</td> <td> -963.884</td>\n",
       "</tr>\n",
       "<tr>\n",
       "  <th>Unemployment_Rate</th> <td>-1.937e+04</td> <td> 2583.075</td> <td>   -7.499</td> <td> 0.000</td> <td>-2.44e+04</td> <td>-1.43e+04</td>\n",
       "</tr>\n",
       "<tr>\n",
       "  <th>Holiday</th>           <td> 2.571e+04</td> <td> 1.88e+04</td> <td>    1.366</td> <td> 0.172</td> <td>-1.12e+04</td> <td> 6.26e+04</td>\n",
       "</tr>\n",
       "<tr>\n",
       "  <th>Size</th>              <td>    7.7282</td> <td>    0.117</td> <td>   65.965</td> <td> 0.000</td> <td>    7.499</td> <td>    7.958</td>\n",
       "</tr>\n",
       "<tr>\n",
       "  <th>weeknumber</th>        <td> 2428.0872</td> <td>  327.339</td> <td>    7.418</td> <td> 0.000</td> <td> 1786.363</td> <td> 3069.811</td>\n",
       "</tr>\n",
       "<tr>\n",
       "  <th>Total_MarkDown</th>    <td>    2.1684</td> <td>    0.330</td> <td>    6.562</td> <td> 0.000</td> <td>    1.521</td> <td>    2.816</td>\n",
       "</tr>\n",
       "<tr>\n",
       "  <th>Food</th>              <td> 3.186e+04</td> <td> 1.32e+04</td> <td>    2.411</td> <td> 0.016</td> <td> 5950.457</td> <td> 5.78e+04</td>\n",
       "</tr>\n",
       "<tr>\n",
       "  <th>Regional</th>          <td> 1.866e+05</td> <td> 2.13e+04</td> <td>    8.754</td> <td> 0.000</td> <td> 1.45e+05</td> <td> 2.28e+05</td>\n",
       "</tr>\n",
       "</table>\n",
       "<table class=\"simpletable\">\n",
       "<tr>\n",
       "  <th>Omnibus:</th>       <td>1319.963</td> <th>  Durbin-Watson:     </th> <td>   1.954</td>\n",
       "</tr>\n",
       "<tr>\n",
       "  <th>Prob(Omnibus):</th>  <td> 0.000</td>  <th>  Jarque-Bera (JB):  </th> <td>4702.182</td>\n",
       "</tr>\n",
       "<tr>\n",
       "  <th>Skew:</th>           <td> 1.255</td>  <th>  Prob(JB):          </th> <td>    0.00</td>\n",
       "</tr>\n",
       "<tr>\n",
       "  <th>Kurtosis:</th>       <td> 6.953</td>  <th>  Cond. No.          </th> <td>1.37e+06</td>\n",
       "</tr>\n",
       "</table><br/><br/>Notes:<br/>[1] Standard Errors assume that the covariance matrix of the errors is correctly specified.<br/>[2] The condition number is large, 1.37e+06. This might indicate that there are<br/>strong multicollinearity or other numerical problems."
      ],
      "text/plain": [
       "<class 'statsmodels.iolib.summary.Summary'>\n",
       "\"\"\"\n",
       "                            OLS Regression Results                            \n",
       "==============================================================================\n",
       "Dep. Variable:            Total_Sales   R-squared:                       0.676\n",
       "Model:                            OLS   Adj. R-squared:                  0.676\n",
       "Method:                 Least Squares   F-statistic:                     1343.\n",
       "Date:                Thu, 11 Nov 2021   Prob (F-statistic):               0.00\n",
       "Time:                        16:02:27   Log-Likelihood:                -72582.\n",
       "No. Observations:                5148   AIC:                         1.452e+05\n",
       "Df Residuals:                    5139   BIC:                         1.452e+05\n",
       "Df Model:                           8                                         \n",
       "Covariance Type:            nonrobust                                         \n",
       "=====================================================================================\n",
       "                        coef    std err          t      P>|t|      [0.025      0.975]\n",
       "-------------------------------------------------------------------------------------\n",
       "const              2.867e+05    4.1e+04      6.993      0.000    2.06e+05    3.67e+05\n",
       "CPI               -1200.0650    120.474     -9.961      0.000   -1436.246    -963.884\n",
       "Unemployment_Rate -1.937e+04   2583.075     -7.499      0.000   -2.44e+04   -1.43e+04\n",
       "Holiday            2.571e+04   1.88e+04      1.366      0.172   -1.12e+04    6.26e+04\n",
       "Size                  7.7282      0.117     65.965      0.000       7.499       7.958\n",
       "weeknumber         2428.0872    327.339      7.418      0.000    1786.363    3069.811\n",
       "Total_MarkDown        2.1684      0.330      6.562      0.000       1.521       2.816\n",
       "Food               3.186e+04   1.32e+04      2.411      0.016    5950.457    5.78e+04\n",
       "Regional           1.866e+05   2.13e+04      8.754      0.000    1.45e+05    2.28e+05\n",
       "==============================================================================\n",
       "Omnibus:                     1319.963   Durbin-Watson:                   1.954\n",
       "Prob(Omnibus):                  0.000   Jarque-Bera (JB):             4702.182\n",
       "Skew:                           1.255   Prob(JB):                         0.00\n",
       "Kurtosis:                       6.953   Cond. No.                     1.37e+06\n",
       "==============================================================================\n",
       "\n",
       "Notes:\n",
       "[1] Standard Errors assume that the covariance matrix of the errors is correctly specified.\n",
       "[2] The condition number is large, 1.37e+06. This might indicate that there are\n",
       "strong multicollinearity or other numerical problems.\n",
       "\"\"\""
      ]
     },
     "execution_count": 79,
     "metadata": {},
     "output_type": "execute_result"
    }
   ],
   "source": [
    "#Building stat model\n",
    "x_train_stat = sm.add_constant(x_train_new)\n",
    "x_test_stat = sm.add_constant(x_test_new)\n",
    "# training the model and printing the model statistics\n",
    "model_stats = sm.OLS(y_train,x_train_stat).fit()\n",
    "model_stats.summary()"
   ]
  },
  {
   "cell_type": "code",
   "execution_count": 80,
   "id": "0cc0677a",
   "metadata": {},
   "outputs": [
    {
     "data": {
      "text/html": [
       "<div>\n",
       "<style scoped>\n",
       "    .dataframe tbody tr th:only-of-type {\n",
       "        vertical-align: middle;\n",
       "    }\n",
       "\n",
       "    .dataframe tbody tr th {\n",
       "        vertical-align: top;\n",
       "    }\n",
       "\n",
       "    .dataframe thead th {\n",
       "        text-align: right;\n",
       "    }\n",
       "</style>\n",
       "<table border=\"1\" class=\"dataframe\">\n",
       "  <thead>\n",
       "    <tr style=\"text-align: right;\">\n",
       "      <th></th>\n",
       "      <th>Temperature</th>\n",
       "      <th>CPI</th>\n",
       "      <th>Unemployment_Rate</th>\n",
       "      <th>Holiday</th>\n",
       "      <th>Total_Sales</th>\n",
       "      <th>Size</th>\n",
       "      <th>weeknumber</th>\n",
       "      <th>Total_MarkDown</th>\n",
       "      <th>Food</th>\n",
       "      <th>Regional</th>\n",
       "    </tr>\n",
       "  </thead>\n",
       "  <tbody>\n",
       "    <tr>\n",
       "      <th>0</th>\n",
       "      <td>55.32</td>\n",
       "      <td>223.462779</td>\n",
       "      <td>6.573</td>\n",
       "      <td>0</td>\n",
       "      <td>NaN</td>\n",
       "      <td>151315</td>\n",
       "      <td>6</td>\n",
       "      <td>18342.28</td>\n",
       "      <td>0</td>\n",
       "      <td>0</td>\n",
       "    </tr>\n",
       "    <tr>\n",
       "      <th>1</th>\n",
       "      <td>61.24</td>\n",
       "      <td>223.481307</td>\n",
       "      <td>6.573</td>\n",
       "      <td>0</td>\n",
       "      <td>NaN</td>\n",
       "      <td>151315</td>\n",
       "      <td>37</td>\n",
       "      <td>25633.44</td>\n",
       "      <td>0</td>\n",
       "      <td>0</td>\n",
       "    </tr>\n",
       "    <tr>\n",
       "      <th>2</th>\n",
       "      <td>52.92</td>\n",
       "      <td>223.512911</td>\n",
       "      <td>6.573</td>\n",
       "      <td>0</td>\n",
       "      <td>NaN</td>\n",
       "      <td>151315</td>\n",
       "      <td>46</td>\n",
       "      <td>17838.00</td>\n",
       "      <td>0</td>\n",
       "      <td>0</td>\n",
       "    </tr>\n",
       "    <tr>\n",
       "      <th>3</th>\n",
       "      <td>56.23</td>\n",
       "      <td>223.561947</td>\n",
       "      <td>6.573</td>\n",
       "      <td>1</td>\n",
       "      <td>NaN</td>\n",
       "      <td>151315</td>\n",
       "      <td>47</td>\n",
       "      <td>76311.31</td>\n",
       "      <td>0</td>\n",
       "      <td>0</td>\n",
       "    </tr>\n",
       "    <tr>\n",
       "      <th>4</th>\n",
       "      <td>52.34</td>\n",
       "      <td>223.610984</td>\n",
       "      <td>6.573</td>\n",
       "      <td>0</td>\n",
       "      <td>NaN</td>\n",
       "      <td>151315</td>\n",
       "      <td>48</td>\n",
       "      <td>13415.29</td>\n",
       "      <td>0</td>\n",
       "      <td>0</td>\n",
       "    </tr>\n",
       "  </tbody>\n",
       "</table>\n",
       "</div>"
      ],
      "text/plain": [
       "   Temperature         CPI  Unemployment_Rate  Holiday  Total_Sales    Size  \\\n",
       "0        55.32  223.462779              6.573        0          NaN  151315   \n",
       "1        61.24  223.481307              6.573        0          NaN  151315   \n",
       "2        52.92  223.512911              6.573        0          NaN  151315   \n",
       "3        56.23  223.561947              6.573        1          NaN  151315   \n",
       "4        52.34  223.610984              6.573        0          NaN  151315   \n",
       "\n",
       "   weeknumber  Total_MarkDown  Food  Regional  \n",
       "0           6        18342.28     0         0  \n",
       "1          37        25633.44     0         0  \n",
       "2          46        17838.00     0         0  \n",
       "3          47        76311.31     0         0  \n",
       "4          48        13415.29     0         0  "
      ]
     },
     "execution_count": 80,
     "metadata": {},
     "output_type": "execute_result"
    }
   ],
   "source": [
    "## Test data to be predicted \n",
    "test_data = df[df['Total_Sales'].isna()].reset_index().drop(columns = ['index'])\n",
    "test_data.head()"
   ]
  },
  {
   "cell_type": "code",
   "execution_count": 81,
   "id": "43bf88e4",
   "metadata": {},
   "outputs": [],
   "source": [
    "#Dropping the sales column from test data\n",
    "test_data.drop('Total_Sales',inplace=True,axis=1)"
   ]
  },
  {
   "cell_type": "code",
   "execution_count": 83,
   "id": "5f2594af",
   "metadata": {},
   "outputs": [],
   "source": [
    "#scalling the test data\n",
    "test_data_scaled= scaler.transform(test_data)"
   ]
  },
  {
   "cell_type": "code",
   "execution_count": 84,
   "id": "cfcc027e",
   "metadata": {},
   "outputs": [
    {
     "data": {
      "text/html": [
       "<div>\n",
       "<style scoped>\n",
       "    .dataframe tbody tr th:only-of-type {\n",
       "        vertical-align: middle;\n",
       "    }\n",
       "\n",
       "    .dataframe tbody tr th {\n",
       "        vertical-align: top;\n",
       "    }\n",
       "\n",
       "    .dataframe thead th {\n",
       "        text-align: right;\n",
       "    }\n",
       "</style>\n",
       "<table border=\"1\" class=\"dataframe\">\n",
       "  <thead>\n",
       "    <tr style=\"text-align: right;\">\n",
       "      <th></th>\n",
       "      <th>0</th>\n",
       "      <th>1</th>\n",
       "      <th>2</th>\n",
       "      <th>3</th>\n",
       "      <th>4</th>\n",
       "      <th>5</th>\n",
       "      <th>6</th>\n",
       "      <th>7</th>\n",
       "      <th>8</th>\n",
       "    </tr>\n",
       "  </thead>\n",
       "  <tbody>\n",
       "    <tr>\n",
       "      <th>0</th>\n",
       "      <td>0.526216</td>\n",
       "      <td>0.962735</td>\n",
       "      <td>0.258194</td>\n",
       "      <td>0.0</td>\n",
       "      <td>0.630267</td>\n",
       "      <td>0.098039</td>\n",
       "      <td>0.114275</td>\n",
       "      <td>0.0</td>\n",
       "      <td>0.0</td>\n",
       "    </tr>\n",
       "    <tr>\n",
       "      <th>1</th>\n",
       "      <td>0.588795</td>\n",
       "      <td>0.962918</td>\n",
       "      <td>0.258194</td>\n",
       "      <td>0.0</td>\n",
       "      <td>0.630267</td>\n",
       "      <td>0.705882</td>\n",
       "      <td>0.159699</td>\n",
       "      <td>0.0</td>\n",
       "      <td>0.0</td>\n",
       "    </tr>\n",
       "    <tr>\n",
       "      <th>2</th>\n",
       "      <td>0.500846</td>\n",
       "      <td>0.963231</td>\n",
       "      <td>0.258194</td>\n",
       "      <td>0.0</td>\n",
       "      <td>0.630267</td>\n",
       "      <td>0.882353</td>\n",
       "      <td>0.111133</td>\n",
       "      <td>0.0</td>\n",
       "      <td>0.0</td>\n",
       "    </tr>\n",
       "    <tr>\n",
       "      <th>3</th>\n",
       "      <td>0.535835</td>\n",
       "      <td>0.963716</td>\n",
       "      <td>0.258194</td>\n",
       "      <td>1.0</td>\n",
       "      <td>0.630267</td>\n",
       "      <td>0.901961</td>\n",
       "      <td>0.475428</td>\n",
       "      <td>0.0</td>\n",
       "      <td>0.0</td>\n",
       "    </tr>\n",
       "    <tr>\n",
       "      <th>4</th>\n",
       "      <td>0.494715</td>\n",
       "      <td>0.964200</td>\n",
       "      <td>0.258194</td>\n",
       "      <td>0.0</td>\n",
       "      <td>0.630267</td>\n",
       "      <td>0.921569</td>\n",
       "      <td>0.083579</td>\n",
       "      <td>0.0</td>\n",
       "      <td>0.0</td>\n",
       "    </tr>\n",
       "  </tbody>\n",
       "</table>\n",
       "</div>"
      ],
      "text/plain": [
       "          0         1         2    3         4         5         6    7    8\n",
       "0  0.526216  0.962735  0.258194  0.0  0.630267  0.098039  0.114275  0.0  0.0\n",
       "1  0.588795  0.962918  0.258194  0.0  0.630267  0.705882  0.159699  0.0  0.0\n",
       "2  0.500846  0.963231  0.258194  0.0  0.630267  0.882353  0.111133  0.0  0.0\n",
       "3  0.535835  0.963716  0.258194  1.0  0.630267  0.901961  0.475428  0.0  0.0\n",
       "4  0.494715  0.964200  0.258194  0.0  0.630267  0.921569  0.083579  0.0  0.0"
      ]
     },
     "execution_count": 84,
     "metadata": {},
     "output_type": "execute_result"
    }
   ],
   "source": [
    "# converting into data frame\n",
    "test_data_scaled=pd.DataFrame(test_data_scaled)\n",
    "test_data_scaled.head()"
   ]
  },
  {
   "cell_type": "code",
   "execution_count": 85,
   "id": "2e71a706",
   "metadata": {},
   "outputs": [],
   "source": [
    "prediction_result = rf_reg.predict(test_data_scaled)\n",
    "test_data_scaled['Total_Sales'] = prediction_result"
   ]
  },
  {
   "cell_type": "code",
   "execution_count": null,
   "id": "21c0b025",
   "metadata": {},
   "outputs": [],
   "source": [
    "## We have predicted the total sales.We prefer random forest model as it has an accuracy of 94 % where as stat and sklearn model had accuracy aroung 65%"
   ]
  }
 ],
 "metadata": {
  "kernelspec": {
   "display_name": "Python 3 (ipykernel)",
   "language": "python",
   "name": "python3"
  },
  "language_info": {
   "codemirror_mode": {
    "name": "ipython",
    "version": 3
   },
   "file_extension": ".py",
   "mimetype": "text/x-python",
   "name": "python",
   "nbconvert_exporter": "python",
   "pygments_lexer": "ipython3",
   "version": "3.8.12"
  }
 },
 "nbformat": 4,
 "nbformat_minor": 5
}
